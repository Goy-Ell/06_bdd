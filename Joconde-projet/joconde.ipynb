{
 "cells": [
  {
   "cell_type": "code",
   "execution_count": 1,
   "metadata": {},
   "outputs": [],
   "source": [
    "import pandas as pd\n",
    "# import module as mod\n",
    "import seaborn as sns\n",
    "from matplotlib import pyplot as plt\n",
    "import numpy as np\n",
    "from logging import exception\n",
    "\n"
   ]
  },
  {
   "cell_type": "markdown",
   "metadata": {},
   "source": [
    "# RECUPERATION DATA"
   ]
  },
  {
   "cell_type": "code",
   "execution_count": 2,
   "metadata": {},
   "outputs": [],
   "source": [
    "data = pd.read_csv('base-joconde-extrait.csv', delimiter=';',low_memory=False ,encoding='utf-8')\n",
    "data.dataframeName = 'base-joconde-extrait.csv'"
   ]
  },
  {
   "cell_type": "code",
   "execution_count": 9,
   "metadata": {},
   "outputs": [
    {
     "data": {
      "text/html": [
       "<div>\n",
       "<style scoped>\n",
       "    .dataframe tbody tr th:only-of-type {\n",
       "        vertical-align: middle;\n",
       "    }\n",
       "\n",
       "    .dataframe tbody tr th {\n",
       "        vertical-align: top;\n",
       "    }\n",
       "\n",
       "    .dataframe thead th {\n",
       "        text-align: right;\n",
       "    }\n",
       "</style>\n",
       "<table border=\"1\" class=\"dataframe\">\n",
       "  <thead>\n",
       "    <tr style=\"text-align: right;\">\n",
       "      <th></th>\n",
       "      <th>ID-notice</th>\n",
       "      <th>POP_CONTIENT_GEOLOCALISATION</th>\n",
       "      <th>POP_COORDONNEES</th>\n",
       "      <th>Ancien dépôt</th>\n",
       "      <th>Appellation</th>\n",
       "      <th>APTN</th>\n",
       "      <th>ATTR</th>\n",
       "      <th>Auteur</th>\n",
       "      <th>BASE</th>\n",
       "      <th>BIBL</th>\n",
       "      <th>...</th>\n",
       "      <th>REGION</th>\n",
       "      <th>Sujet</th>\n",
       "      <th>RETIF</th>\n",
       "      <th>Source de la représentation</th>\n",
       "      <th>Statut juridique</th>\n",
       "      <th>Matériaux-techniques</th>\n",
       "      <th>Titre</th>\n",
       "      <th>Utilisation</th>\n",
       "      <th>WWW</th>\n",
       "      <th>Ville_</th>\n",
       "    </tr>\n",
       "  </thead>\n",
       "  <tbody>\n",
       "    <tr>\n",
       "      <th>18956</th>\n",
       "      <td>00160018055</td>\n",
       "      <td>oui</td>\n",
       "      <td>48.579654,7.736231</td>\n",
       "      <td>NaN</td>\n",
       "      <td>NaN</td>\n",
       "      <td>NaN</td>\n",
       "      <td>NaN</td>\n",
       "      <td>BALTHASAR (dit);HAUG Hans (patronyme)</td>\n",
       "      <td>Collections des musées de France (Joconde)</td>\n",
       "      <td>NaN</td>\n",
       "      <td>...</td>\n",
       "      <td>Grand Est</td>\n",
       "      <td>NaN</td>\n",
       "      <td>NaN</td>\n",
       "      <td>NaN</td>\n",
       "      <td>don;Strasbourg;musée d'art moderne et contempo...</td>\n",
       "      <td>NaN</td>\n",
       "      <td>Château de Cheverny</td>\n",
       "      <td>NaN</td>\n",
       "      <td>NaN</td>\n",
       "      <td>Strasbourg</td>\n",
       "    </tr>\n",
       "    <tr>\n",
       "      <th>117593</th>\n",
       "      <td>08680000588</td>\n",
       "      <td>oui</td>\n",
       "      <td>43.580973,7.127959</td>\n",
       "      <td>NaN</td>\n",
       "      <td>NaN</td>\n",
       "      <td>NaN</td>\n",
       "      <td>NaN</td>\n",
       "      <td>MASEREEL Frans</td>\n",
       "      <td>Collections des musées de France (Joconde)</td>\n",
       "      <td>. GIRAUDY (Danièle). - Les collections d'art m...</td>\n",
       "      <td>...</td>\n",
       "      <td>Provence-Alpes-Côte d'Azur</td>\n",
       "      <td>NaN</td>\n",
       "      <td>NaN</td>\n",
       "      <td>NaN</td>\n",
       "      <td>don;Antibes;musée Picasso</td>\n",
       "      <td>NaN</td>\n",
       "      <td>Voisins</td>\n",
       "      <td>NaN</td>\n",
       "      <td>NaN</td>\n",
       "      <td>Antibes</td>\n",
       "    </tr>\n",
       "    <tr>\n",
       "      <th>475111</th>\n",
       "      <td>50350022175</td>\n",
       "      <td>oui</td>\n",
       "      <td>48.859903,2.340929</td>\n",
       "      <td>NaN</td>\n",
       "      <td>NaN</td>\n",
       "      <td>Cosson, Paul Henri Charles#dernière provenance...</td>\n",
       "      <td>NaN</td>\n",
       "      <td>BRETON Jules</td>\n",
       "      <td>Collections des musées de France (Joconde)</td>\n",
       "      <td>NaN</td>\n",
       "      <td>...</td>\n",
       "      <td>Ile-de-France</td>\n",
       "      <td>autoportrait</td>\n",
       "      <td>NaN</td>\n",
       "      <td>NaN</td>\n",
       "      <td>propriété de l'Etat;legs;musée du Louvre dépar...</td>\n",
       "      <td>plume;encre brune;mine de plomb</td>\n",
       "      <td>Autoportrait, de profil vers la droite</td>\n",
       "      <td>NaN</td>\n",
       "      <td>http://arts-graphiques.louvre.fr/detail/oeuvre...</td>\n",
       "      <td>Paris</td>\n",
       "    </tr>\n",
       "    <tr>\n",
       "      <th>246051</th>\n",
       "      <td>50350202901</td>\n",
       "      <td>oui</td>\n",
       "      <td>48.859903,2.340929</td>\n",
       "      <td>NaN</td>\n",
       "      <td>NaN</td>\n",
       "      <td>Krahe, Lambert ; Maratta, albums dits de</td>\n",
       "      <td>ancienne attribution : ANONYME ITALIEN fin XVI...</td>\n",
       "      <td>CALANDRUCCI Giacinto</td>\n",
       "      <td>Collections des musées de France (Joconde)</td>\n",
       "      <td>NaN</td>\n",
       "      <td>...</td>\n",
       "      <td>Ile-de-France</td>\n",
       "      <td>NaN</td>\n",
       "      <td>NaN</td>\n",
       "      <td>NaN</td>\n",
       "      <td>propriété de l'Etat;musée du Louvre départemen...</td>\n",
       "      <td>sanguine;blanc (rehaut);papier (bleu)</td>\n",
       "      <td>Religieuse priant agenouillée, reprises des ma...</td>\n",
       "      <td>NaN</td>\n",
       "      <td>http://arts-graphiques.louvre.fr/detail/oeuvre...</td>\n",
       "      <td>Paris</td>\n",
       "    </tr>\n",
       "    <tr>\n",
       "      <th>526223</th>\n",
       "      <td>50190041936</td>\n",
       "      <td>oui</td>\n",
       "      <td>45.861683,5.947732</td>\n",
       "      <td>NaN</td>\n",
       "      <td>NaN</td>\n",
       "      <td>NaN</td>\n",
       "      <td>NaN</td>\n",
       "      <td>HUMBERT Jules Eugène;manufacture de Sèvres</td>\n",
       "      <td>Collections des musées de France (Joconde)</td>\n",
       "      <td>NaN</td>\n",
       "      <td>...</td>\n",
       "      <td>Ile-de-France</td>\n",
       "      <td>NaN</td>\n",
       "      <td>NaN</td>\n",
       "      <td>NaN</td>\n",
       "      <td>propriété de l'Etat;archives publiques;Sèvres ...</td>\n",
       "      <td>graphite, lavis;papier</td>\n",
       "      <td>Elément décoratif [La Nature]</td>\n",
       "      <td>NaN</td>\n",
       "      <td>NaN</td>\n",
       "      <td>Sèvres</td>\n",
       "    </tr>\n",
       "    <tr>\n",
       "      <th>...</th>\n",
       "      <td>...</td>\n",
       "      <td>...</td>\n",
       "      <td>...</td>\n",
       "      <td>...</td>\n",
       "      <td>...</td>\n",
       "      <td>...</td>\n",
       "      <td>...</td>\n",
       "      <td>...</td>\n",
       "      <td>...</td>\n",
       "      <td>...</td>\n",
       "      <td>...</td>\n",
       "      <td>...</td>\n",
       "      <td>...</td>\n",
       "      <td>...</td>\n",
       "      <td>...</td>\n",
       "      <td>...</td>\n",
       "      <td>...</td>\n",
       "      <td>...</td>\n",
       "      <td>...</td>\n",
       "      <td>...</td>\n",
       "      <td>...</td>\n",
       "    </tr>\n",
       "    <tr>\n",
       "      <th>102830</th>\n",
       "      <td>70500002620</td>\n",
       "      <td>oui</td>\n",
       "      <td>43.701924,7.279572</td>\n",
       "      <td>NaN</td>\n",
       "      <td>NaN</td>\n",
       "      <td>Jean-Baptiste Barla</td>\n",
       "      <td>NaN</td>\n",
       "      <td>BARLA Jean-Baptiste (attribué à)</td>\n",
       "      <td>Collections des musées de France (Joconde)</td>\n",
       "      <td>Annales du Muséum d'Histoire Naturelle de Nice...</td>\n",
       "      <td>...</td>\n",
       "      <td>Provence-Alpes-Côte d'Azur</td>\n",
       "      <td>représentation scientifique (champignon)</td>\n",
       "      <td>NaN</td>\n",
       "      <td>NaN</td>\n",
       "      <td>propriété de la commune;legs;Nice;muséum d'his...</td>\n",
       "      <td>papier, encre, aquarelle</td>\n",
       "      <td>Lentin écailleux ; champignon</td>\n",
       "      <td>NaN</td>\n",
       "      <td>NaN</td>\n",
       "      <td>Nice</td>\n",
       "    </tr>\n",
       "    <tr>\n",
       "      <th>436718</th>\n",
       "      <td>5001MIL3645</td>\n",
       "      <td>non</td>\n",
       "      <td>48.897879,2.094936</td>\n",
       "      <td>NaN</td>\n",
       "      <td>NaN</td>\n",
       "      <td>De Baye</td>\n",
       "      <td>NaN</td>\n",
       "      <td>NaN</td>\n",
       "      <td>Collections des musées de France (Joconde)</td>\n",
       "      <td>NaN</td>\n",
       "      <td>...</td>\n",
       "      <td>Ile-de-France</td>\n",
       "      <td>NaN</td>\n",
       "      <td>NaN</td>\n",
       "      <td>NaN</td>\n",
       "      <td>propriété de l'Etat;don;musée d'Archéologie na...</td>\n",
       "      <td>silex</td>\n",
       "      <td>NaN</td>\n",
       "      <td>NaN</td>\n",
       "      <td>NaN</td>\n",
       "      <td>Saint-Germain-en-Laye</td>\n",
       "    </tr>\n",
       "    <tr>\n",
       "      <th>578961</th>\n",
       "      <td>M0332012969</td>\n",
       "      <td>oui</td>\n",
       "      <td>47.240055,6.022938</td>\n",
       "      <td>NaN</td>\n",
       "      <td>NaN</td>\n",
       "      <td>Jean Gigoux</td>\n",
       "      <td>LE BRUN Charles ; anonyme</td>\n",
       "      <td>anonyme</td>\n",
       "      <td>Collections des musées de France (Joconde)</td>\n",
       "      <td>NaN</td>\n",
       "      <td>...</td>\n",
       "      <td>Bourgogne-Franche-Comté</td>\n",
       "      <td>portrait d'inconnu (homme, en buste)</td>\n",
       "      <td>NaN</td>\n",
       "      <td>NaN</td>\n",
       "      <td>propriété de la commune;legs;Besançon;musée de...</td>\n",
       "      <td>papier, pierre noire, craie blanche</td>\n",
       "      <td>Portrait d'homme</td>\n",
       "      <td>NaN</td>\n",
       "      <td>NaN</td>\n",
       "      <td>Besançon</td>\n",
       "    </tr>\n",
       "    <tr>\n",
       "      <th>66897</th>\n",
       "      <td>01720012013</td>\n",
       "      <td>oui</td>\n",
       "      <td>46.30716,4.832892</td>\n",
       "      <td>NaN</td>\n",
       "      <td>NaN</td>\n",
       "      <td>NaN</td>\n",
       "      <td>NaN</td>\n",
       "      <td>NaN</td>\n",
       "      <td>Collections des musées de France (Joconde)</td>\n",
       "      <td>NaN</td>\n",
       "      <td>...</td>\n",
       "      <td>Bourgogne-Franche-Comté</td>\n",
       "      <td>NaN</td>\n",
       "      <td>NaN</td>\n",
       "      <td>NaN</td>\n",
       "      <td>propriété de la commune;mode d'acquisition inc...</td>\n",
       "      <td>noyer</td>\n",
       "      <td>NaN</td>\n",
       "      <td>NaN</td>\n",
       "      <td>NaN</td>\n",
       "      <td>Mâcon</td>\n",
       "    </tr>\n",
       "    <tr>\n",
       "      <th>596226</th>\n",
       "      <td>5002D000302</td>\n",
       "      <td>oui</td>\n",
       "      <td>43.29690491040561,5.361071769324869</td>\n",
       "      <td>NaN</td>\n",
       "      <td>NaN</td>\n",
       "      <td>Perrot René</td>\n",
       "      <td>NaN</td>\n",
       "      <td>Perrot René</td>\n",
       "      <td>Collections des musées de France (Joconde)</td>\n",
       "      <td>NaN</td>\n",
       "      <td>...</td>\n",
       "      <td>Provence-Alpes-Côte d'Azur</td>\n",
       "      <td>Doubs d;scène (couple, outil agricole, opérati...</td>\n",
       "      <td>NaN</td>\n",
       "      <td>NaN</td>\n",
       "      <td>propriété de l'Etat;donation;musée national de...</td>\n",
       "      <td>mine de plomb, plume, encre (noire);papier</td>\n",
       "      <td>Paysans écartant les taupinières (titre inscrit)</td>\n",
       "      <td>NaN</td>\n",
       "      <td>NaN</td>\n",
       "      <td>Marseille</td>\n",
       "    </tr>\n",
       "  </tbody>\n",
       "</table>\n",
       "<p>6509 rows × 75 columns</p>\n",
       "</div>"
      ],
      "text/plain": [
       "          ID-notice POP_CONTIENT_GEOLOCALISATION  \\\n",
       "18956   00160018055                          oui   \n",
       "117593  08680000588                          oui   \n",
       "475111  50350022175                          oui   \n",
       "246051  50350202901                          oui   \n",
       "526223  50190041936                          oui   \n",
       "...             ...                          ...   \n",
       "102830  70500002620                          oui   \n",
       "436718  5001MIL3645                          non   \n",
       "578961  M0332012969                          oui   \n",
       "66897   01720012013                          oui   \n",
       "596226  5002D000302                          oui   \n",
       "\n",
       "                            POP_COORDONNEES Ancien dépôt Appellation  \\\n",
       "18956                    48.579654,7.736231          NaN         NaN   \n",
       "117593                   43.580973,7.127959          NaN         NaN   \n",
       "475111                   48.859903,2.340929          NaN         NaN   \n",
       "246051                   48.859903,2.340929          NaN         NaN   \n",
       "526223                   45.861683,5.947732          NaN         NaN   \n",
       "...                                     ...          ...         ...   \n",
       "102830                   43.701924,7.279572          NaN         NaN   \n",
       "436718                   48.897879,2.094936          NaN         NaN   \n",
       "578961                   47.240055,6.022938          NaN         NaN   \n",
       "66897                     46.30716,4.832892          NaN         NaN   \n",
       "596226  43.29690491040561,5.361071769324869          NaN         NaN   \n",
       "\n",
       "                                                     APTN  \\\n",
       "18956                                                 NaN   \n",
       "117593                                                NaN   \n",
       "475111  Cosson, Paul Henri Charles#dernière provenance...   \n",
       "246051           Krahe, Lambert ; Maratta, albums dits de   \n",
       "526223                                                NaN   \n",
       "...                                                   ...   \n",
       "102830                                Jean-Baptiste Barla   \n",
       "436718                                            De Baye   \n",
       "578961                                        Jean Gigoux   \n",
       "66897                                                 NaN   \n",
       "596226                                        Perrot René   \n",
       "\n",
       "                                                     ATTR  \\\n",
       "18956                                                 NaN   \n",
       "117593                                                NaN   \n",
       "475111                                                NaN   \n",
       "246051  ancienne attribution : ANONYME ITALIEN fin XVI...   \n",
       "526223                                                NaN   \n",
       "...                                                   ...   \n",
       "102830                                                NaN   \n",
       "436718                                                NaN   \n",
       "578961                          LE BRUN Charles ; anonyme   \n",
       "66897                                                 NaN   \n",
       "596226                                                NaN   \n",
       "\n",
       "                                            Auteur  \\\n",
       "18956        BALTHASAR (dit);HAUG Hans (patronyme)   \n",
       "117593                              MASEREEL Frans   \n",
       "475111                                BRETON Jules   \n",
       "246051                        CALANDRUCCI Giacinto   \n",
       "526223  HUMBERT Jules Eugène;manufacture de Sèvres   \n",
       "...                                            ...   \n",
       "102830            BARLA Jean-Baptiste (attribué à)   \n",
       "436718                                         NaN   \n",
       "578961                                     anonyme   \n",
       "66897                                          NaN   \n",
       "596226                                 Perrot René   \n",
       "\n",
       "                                              BASE  \\\n",
       "18956   Collections des musées de France (Joconde)   \n",
       "117593  Collections des musées de France (Joconde)   \n",
       "475111  Collections des musées de France (Joconde)   \n",
       "246051  Collections des musées de France (Joconde)   \n",
       "526223  Collections des musées de France (Joconde)   \n",
       "...                                            ...   \n",
       "102830  Collections des musées de France (Joconde)   \n",
       "436718  Collections des musées de France (Joconde)   \n",
       "578961  Collections des musées de France (Joconde)   \n",
       "66897   Collections des musées de France (Joconde)   \n",
       "596226  Collections des musées de France (Joconde)   \n",
       "\n",
       "                                                     BIBL  ...  \\\n",
       "18956                                                 NaN  ...   \n",
       "117593  . GIRAUDY (Danièle). - Les collections d'art m...  ...   \n",
       "475111                                                NaN  ...   \n",
       "246051                                                NaN  ...   \n",
       "526223                                                NaN  ...   \n",
       "...                                                   ...  ...   \n",
       "102830  Annales du Muséum d'Histoire Naturelle de Nice...  ...   \n",
       "436718                                                NaN  ...   \n",
       "578961                                                NaN  ...   \n",
       "66897                                                 NaN  ...   \n",
       "596226                                                NaN  ...   \n",
       "\n",
       "                            REGION  \\\n",
       "18956                    Grand Est   \n",
       "117593  Provence-Alpes-Côte d'Azur   \n",
       "475111               Ile-de-France   \n",
       "246051               Ile-de-France   \n",
       "526223               Ile-de-France   \n",
       "...                            ...   \n",
       "102830  Provence-Alpes-Côte d'Azur   \n",
       "436718               Ile-de-France   \n",
       "578961     Bourgogne-Franche-Comté   \n",
       "66897      Bourgogne-Franche-Comté   \n",
       "596226  Provence-Alpes-Côte d'Azur   \n",
       "\n",
       "                                                    Sujet RETIF  \\\n",
       "18956                                                 NaN   NaN   \n",
       "117593                                                NaN   NaN   \n",
       "475111                                       autoportrait   NaN   \n",
       "246051                                                NaN   NaN   \n",
       "526223                                                NaN   NaN   \n",
       "...                                                   ...   ...   \n",
       "102830           représentation scientifique (champignon)   NaN   \n",
       "436718                                                NaN   NaN   \n",
       "578961               portrait d'inconnu (homme, en buste)   NaN   \n",
       "66897                                                 NaN   NaN   \n",
       "596226  Doubs d;scène (couple, outil agricole, opérati...   NaN   \n",
       "\n",
       "       Source de la représentation  \\\n",
       "18956                          NaN   \n",
       "117593                         NaN   \n",
       "475111                         NaN   \n",
       "246051                         NaN   \n",
       "526223                         NaN   \n",
       "...                            ...   \n",
       "102830                         NaN   \n",
       "436718                         NaN   \n",
       "578961                         NaN   \n",
       "66897                          NaN   \n",
       "596226                         NaN   \n",
       "\n",
       "                                         Statut juridique  \\\n",
       "18956   don;Strasbourg;musée d'art moderne et contempo...   \n",
       "117593                          don;Antibes;musée Picasso   \n",
       "475111  propriété de l'Etat;legs;musée du Louvre dépar...   \n",
       "246051  propriété de l'Etat;musée du Louvre départemen...   \n",
       "526223  propriété de l'Etat;archives publiques;Sèvres ...   \n",
       "...                                                   ...   \n",
       "102830  propriété de la commune;legs;Nice;muséum d'his...   \n",
       "436718  propriété de l'Etat;don;musée d'Archéologie na...   \n",
       "578961  propriété de la commune;legs;Besançon;musée de...   \n",
       "66897   propriété de la commune;mode d'acquisition inc...   \n",
       "596226  propriété de l'Etat;donation;musée national de...   \n",
       "\n",
       "                              Matériaux-techniques  \\\n",
       "18956                                          NaN   \n",
       "117593                                         NaN   \n",
       "475111             plume;encre brune;mine de plomb   \n",
       "246051       sanguine;blanc (rehaut);papier (bleu)   \n",
       "526223                      graphite, lavis;papier   \n",
       "...                                            ...   \n",
       "102830                    papier, encre, aquarelle   \n",
       "436718                                       silex   \n",
       "578961         papier, pierre noire, craie blanche   \n",
       "66897                                        noyer   \n",
       "596226  mine de plomb, plume, encre (noire);papier   \n",
       "\n",
       "                                                    Titre Utilisation  \\\n",
       "18956                                 Château de Cheverny         NaN   \n",
       "117593                                            Voisins         NaN   \n",
       "475111             Autoportrait, de profil vers la droite         NaN   \n",
       "246051  Religieuse priant agenouillée, reprises des ma...         NaN   \n",
       "526223                      Elément décoratif [La Nature]         NaN   \n",
       "...                                                   ...         ...   \n",
       "102830                      Lentin écailleux ; champignon         NaN   \n",
       "436718                                                NaN         NaN   \n",
       "578961                                   Portrait d'homme         NaN   \n",
       "66897                                                 NaN         NaN   \n",
       "596226   Paysans écartant les taupinières (titre inscrit)         NaN   \n",
       "\n",
       "                                                      WWW  \\\n",
       "18956                                                 NaN   \n",
       "117593                                                NaN   \n",
       "475111  http://arts-graphiques.louvre.fr/detail/oeuvre...   \n",
       "246051  http://arts-graphiques.louvre.fr/detail/oeuvre...   \n",
       "526223                                                NaN   \n",
       "...                                                   ...   \n",
       "102830                                                NaN   \n",
       "436718                                                NaN   \n",
       "578961                                                NaN   \n",
       "66897                                                 NaN   \n",
       "596226                                                NaN   \n",
       "\n",
       "                       Ville_  \n",
       "18956              Strasbourg  \n",
       "117593                Antibes  \n",
       "475111                  Paris  \n",
       "246051                  Paris  \n",
       "526223                 Sèvres  \n",
       "...                       ...  \n",
       "102830                   Nice  \n",
       "436718  Saint-Germain-en-Laye  \n",
       "578961               Besançon  \n",
       "66897                   Mâcon  \n",
       "596226              Marseille  \n",
       "\n",
       "[6509 rows x 75 columns]"
      ]
     },
     "execution_count": 9,
     "metadata": {},
     "output_type": "execute_result"
    }
   ],
   "source": [
    "dff=data.sample(frac=0.01)\n",
    "dff"
   ]
  },
  {
   "cell_type": "code",
   "execution_count": 6,
   "metadata": {},
   "outputs": [],
   "source": [
    "import joblib as jl"
   ]
  },
  {
   "cell_type": "code",
   "execution_count": 11,
   "metadata": {},
   "outputs": [
    {
     "data": {
      "text/plain": [
       "['dff.jl']"
      ]
     },
     "execution_count": 11,
     "metadata": {},
     "output_type": "execute_result"
    }
   ],
   "source": [
    "jl.dump(dff,'dff.jl')"
   ]
  },
  {
   "cell_type": "code",
   "execution_count": null,
   "metadata": {},
   "outputs": [],
   "source": []
  },
  {
   "cell_type": "code",
   "execution_count": 91,
   "metadata": {},
   "outputs": [
    {
     "data": {
      "text/plain": [
       "(650853, 75)"
      ]
     },
     "execution_count": 91,
     "metadata": {},
     "output_type": "execute_result"
    }
   ],
   "source": [
    "df=data.copy()\n",
    "df.shape"
   ]
  },
  {
   "cell_type": "markdown",
   "metadata": {},
   "source": [
    "## reduction de colonne"
   ]
  },
  {
   "cell_type": "code",
   "execution_count": 92,
   "metadata": {},
   "outputs": [
    {
     "data": {
      "text/plain": [
       "ID-notice                         0.000000\n",
       "POP_CONTIENT_GEOLOCALISATION      0.000000\n",
       "POP_COORDONNEES                   0.000000\n",
       "Statut juridique                  0.000000\n",
       "PRODUCTEUR                        0.000000\n",
       "                                   ...    \n",
       "MANQUANT_COM                     99.830837\n",
       "REFPAL                           99.997081\n",
       "REFMER                           99.999846\n",
       "REFMEM                           99.999846\n",
       "NSDA                            100.000000\n",
       "Length: 75, dtype: float64"
      ]
     },
     "execution_count": 92,
     "metadata": {},
     "output_type": "execute_result"
    }
   ],
   "source": [
    "# % de remplissage des colonnes\n",
    "na=df.isnull().sum()/df.shape[0]*100\n",
    "na=na.sort_values()\n",
    "na"
   ]
  },
  {
   "cell_type": "code",
   "execution_count": 93,
   "metadata": {},
   "outputs": [],
   "source": [
    "# Suppression des colonne supperieur a 50% de NAN\n",
    "na50=na[na.values<50].index\n",
    "df=df[na50]"
   ]
  },
  {
   "cell_type": "code",
   "execution_count": 94,
   "metadata": {},
   "outputs": [
    {
     "data": {
      "text/plain": [
       "Index(['ID-notice', 'POP_CONTIENT_GEOLOCALISATION', 'POP_COORDONNEES',\n",
       "       'Statut juridique', 'PRODUCTEUR', 'Numéro de l'objet', 'BASE',\n",
       "       'CONTIENT_IMAGE', 'Domaine', 'Lieu de conservation', 'Ville_',\n",
       "       'Identifiant Museofile', 'Source et date de la notice', 'DPT', 'NOMOFF',\n",
       "       'REGION', 'IMAGE', 'Label Musée de France', 'Matériaux-techniques',\n",
       "       'Dimensions', 'Date d'import', 'LOCA2', 'Période de création', 'Auteur',\n",
       "       'Date d'acquisition', 'Titre', 'APTN', 'PHOT', 'Dénomination',\n",
       "       'Précisions sur l'auteur', 'Ecole', 'Date de mise à jour', 'Sujet',\n",
       "       'MSGCOM'],\n",
       "      dtype='object')"
      ]
     },
     "execution_count": 94,
     "metadata": {},
     "output_type": "execute_result"
    }
   ],
   "source": [
    "df.columns"
   ]
  },
  {
   "cell_type": "code",
   "execution_count": 95,
   "metadata": {},
   "outputs": [
    {
     "data": {
      "text/plain": [
       "15"
      ]
     },
     "execution_count": 95,
     "metadata": {},
     "output_type": "execute_result"
    }
   ],
   "source": [
    "#choix des colonnes utiles\n",
    "col = ['ID-notice',\n",
    "    'Auteur',\n",
    "    'Titre', \n",
    "    'Dénomination',\n",
    "    'Domaine', \n",
    "    'Sujet',\n",
    "    # 'POP_CONTIENT_GEOLOCALISATION', \n",
    "    # 'Statut juridique',\n",
    "    # 'PRODUCTEUR',\n",
    "    # \"Numéro de l'objet\",\n",
    "    'BASE',\n",
    "    'CONTIENT_IMAGE', \n",
    "    # 'Lieu de conservation', \n",
    "    'Identifiant Museofile', \n",
    "    # 'Source et date de la notice', \n",
    "    'NOMOFF',\n",
    "    'LOCA2', \n",
    "    'REGION', \n",
    "    'DPT', \n",
    "    'Ville_',\n",
    "    'POP_COORDONNEES',\n",
    "    # 'IMAGE', \n",
    "    # 'Label Musée de France', \n",
    "    # 'Matériaux-techniques',\n",
    "    # 'Dimensions', \n",
    "    # \"Date d'import\", \n",
    "    # 'Période de création', \n",
    "    # \"Date d'acquisition\", \n",
    "    # 'APTN', \n",
    "    # 'PHOT', \n",
    "    # \"Précisions sur l'auteur\", \n",
    "    # 'Ecole', \n",
    "    # 'Date de mise à jour', \n",
    "    # 'MSGCOM'\n",
    "]\n",
    "len(col)"
   ]
  },
  {
   "cell_type": "code",
   "execution_count": 96,
   "metadata": {},
   "outputs": [
    {
     "data": {
      "text/plain": [
       "(650853, 15)"
      ]
     },
     "execution_count": 96,
     "metadata": {},
     "output_type": "execute_result"
    }
   ],
   "source": [
    "df=df[col]\n",
    "df.shape"
   ]
  },
  {
   "cell_type": "markdown",
   "metadata": {},
   "source": [
    "## clean encodage"
   ]
  },
  {
   "cell_type": "markdown",
   "metadata": {},
   "source": [
    "- Il y a des lignes qui sont mal encodées\n",
    "- la colonne base ne contient qu'une valeur. Mais elle en contient des mal encodé. ca nous permetra de recuperer les lignes mal encodées"
   ]
  },
  {
   "cell_type": "code",
   "execution_count": 97,
   "metadata": {},
   "outputs": [],
   "source": [
    "# recup de la valeur base mal encodé ( c'est le string le plus long)\n",
    "\n",
    "a=list(df.BASE.unique())\n",
    "a.sort(key = len, reverse=True)\n",
    "wrong_base = a[0]\n",
    "\n",
    "# creation de 2 db , dont 1 mal encodé\n",
    "df_cp1252=df[df.BASE == wrong_base]\n",
    "df_ok=df[df.BASE == a[1]]\n"
   ]
  },
  {
   "cell_type": "code",
   "execution_count": 98,
   "metadata": {},
   "outputs": [
    {
     "name": "stdout",
     "output_type": "stream",
     "text": [
      "(43333, 15, 607520, 15)\n"
     ]
    },
    {
     "data": {
      "text/plain": [
       "650853"
      ]
     },
     "execution_count": 98,
     "metadata": {},
     "output_type": "execute_result"
    }
   ],
   "source": [
    "# verification qu' on recupere bien toutes les données\n",
    "print(df_cp1252.shape + df_ok.shape)\n",
    "df_cp1252.shape[0] + df_ok.shape[0]"
   ]
  },
  {
   "cell_type": "code",
   "execution_count": 99,
   "metadata": {},
   "outputs": [
    {
     "data": {
      "text/html": [
       "<div>\n",
       "<style scoped>\n",
       "    .dataframe tbody tr th:only-of-type {\n",
       "        vertical-align: middle;\n",
       "    }\n",
       "\n",
       "    .dataframe tbody tr th {\n",
       "        vertical-align: top;\n",
       "    }\n",
       "\n",
       "    .dataframe thead th {\n",
       "        text-align: right;\n",
       "    }\n",
       "</style>\n",
       "<table border=\"1\" class=\"dataframe\">\n",
       "  <thead>\n",
       "    <tr style=\"text-align: right;\">\n",
       "      <th></th>\n",
       "      <th>ID-notice</th>\n",
       "      <th>Auteur</th>\n",
       "      <th>Titre</th>\n",
       "      <th>Dénomination</th>\n",
       "      <th>Domaine</th>\n",
       "      <th>Sujet</th>\n",
       "      <th>BASE</th>\n",
       "      <th>CONTIENT_IMAGE</th>\n",
       "      <th>Identifiant Museofile</th>\n",
       "      <th>NOMOFF</th>\n",
       "      <th>LOCA2</th>\n",
       "      <th>REGION</th>\n",
       "      <th>DPT</th>\n",
       "      <th>Ville_</th>\n",
       "      <th>POP_COORDONNEES</th>\n",
       "    </tr>\n",
       "  </thead>\n",
       "  <tbody>\n",
       "    <tr>\n",
       "      <th>177945</th>\n",
       "      <td>00660019655</td>\n",
       "      <td>LACOUR (FILS) Pierre (d'aprÃ¨s le dessin de);M...</td>\n",
       "      <td>NaN</td>\n",
       "      <td>assiette</td>\n",
       "      <td>céramique;arts décoratifs</td>\n",
       "      <td>groupe de figure (nourrice, enfant, madras, fl...</td>\n",
       "      <td>Collections des musÃ©es de France (Joconde)</td>\n",
       "      <td>oui</td>\n",
       "      <td>M0066</td>\n",
       "      <td>musÃ©e des arts dÃ©coratifs et du design</td>\n",
       "      <td>NaN</td>\n",
       "      <td>Nouvelle-Aquitaine</td>\n",
       "      <td>Gironde</td>\n",
       "      <td>Bordeaux</td>\n",
       "      <td>44.838956,-0.579686</td>\n",
       "    </tr>\n",
       "    <tr>\n",
       "      <th>177948</th>\n",
       "      <td>00660019661</td>\n",
       "      <td>Manufacture David Johnston</td>\n",
       "      <td>La chasse au canard</td>\n",
       "      <td>assiette</td>\n",
       "      <td>céramique;arts décoratifs;chasse - pÃªche - cu...</td>\n",
       "      <td>scÃ¨ne (chasseur, chien, canard, chasse)</td>\n",
       "      <td>Collections des musÃ©es de France (Joconde)</td>\n",
       "      <td>oui</td>\n",
       "      <td>M0066</td>\n",
       "      <td>musÃ©e des arts dÃ©coratifs et du design</td>\n",
       "      <td>NaN</td>\n",
       "      <td>Nouvelle-Aquitaine</td>\n",
       "      <td>Gironde</td>\n",
       "      <td>Bordeaux</td>\n",
       "      <td>44.838956,-0.579686</td>\n",
       "    </tr>\n",
       "  </tbody>\n",
       "</table>\n",
       "</div>"
      ],
      "text/plain": [
       "          ID-notice                                             Auteur  \\\n",
       "177945  00660019655  LACOUR (FILS) Pierre (d'aprÃ¨s le dessin de);M...   \n",
       "177948  00660019661                         Manufacture David Johnston   \n",
       "\n",
       "                      Titre Dénomination  \\\n",
       "177945                  NaN     assiette   \n",
       "177948  La chasse au canard     assiette   \n",
       "\n",
       "                                                  Domaine  \\\n",
       "177945                          céramique;arts décoratifs   \n",
       "177948  céramique;arts décoratifs;chasse - pÃªche - cu...   \n",
       "\n",
       "                                                    Sujet  \\\n",
       "177945  groupe de figure (nourrice, enfant, madras, fl...   \n",
       "177948           scÃ¨ne (chasseur, chien, canard, chasse)   \n",
       "\n",
       "                                               BASE CONTIENT_IMAGE  \\\n",
       "177945  Collections des musÃ©es de France (Joconde)            oui   \n",
       "177948  Collections des musÃ©es de France (Joconde)            oui   \n",
       "\n",
       "       Identifiant Museofile                                    NOMOFF LOCA2  \\\n",
       "177945                 M0066  musÃ©e des arts dÃ©coratifs et du design   NaN   \n",
       "177948                 M0066  musÃ©e des arts dÃ©coratifs et du design   NaN   \n",
       "\n",
       "                    REGION      DPT    Ville_      POP_COORDONNEES  \n",
       "177945  Nouvelle-Aquitaine  Gironde  Bordeaux  44.838956,-0.579686  \n",
       "177948  Nouvelle-Aquitaine  Gironde  Bordeaux  44.838956,-0.579686  "
      ]
     },
     "execution_count": 99,
     "metadata": {},
     "output_type": "execute_result"
    }
   ],
   "source": [
    "df_cp1252.head(2)"
   ]
  },
  {
   "cell_type": "code",
   "execution_count": 100,
   "metadata": {},
   "outputs": [
    {
     "data": {
      "text/plain": [
       "Index(['ID-notice', 'Auteur', 'Titre', 'Dénomination', 'Domaine', 'Sujet',\n",
       "       'BASE', 'CONTIENT_IMAGE', 'Identifiant Museofile', 'NOMOFF', 'LOCA2',\n",
       "       'REGION', 'DPT', 'Ville_', 'POP_COORDONNEES'],\n",
       "      dtype='object')"
      ]
     },
     "execution_count": 100,
     "metadata": {},
     "output_type": "execute_result"
    }
   ],
   "source": [
    "df_cp1252.columns"
   ]
  },
  {
   "cell_type": "code",
   "execution_count": 101,
   "metadata": {},
   "outputs": [
    {
     "name": "stderr",
     "output_type": "stream",
     "text": [
      "C:\\Users\\e_goy\\AppData\\Roaming\\Python\\Python39\\site-packages\\pandas\\core\\indexing.py:1951: SettingWithCopyWarning: \n",
      "A value is trying to be set on a copy of a slice from a DataFrame.\n",
      "Try using .loc[row_indexer,col_indexer] = value instead\n",
      "\n",
      "See the caveats in the documentation: https://pandas.pydata.org/pandas-docs/stable/user_guide/indexing.html#returning-a-view-versus-a-copy\n",
      "  self.obj[selected_item_labels] = value\n"
     ]
    }
   ],
   "source": [
    "def convert(s):\n",
    "    if s is not None:\n",
    "        try:\n",
    "            if isinstance(s,str):\n",
    "                s = s.encode(\"cp1252\").decode()\n",
    "            else : \n",
    "                s = str(s).encode(\"cp1252\").decode()\n",
    "                \n",
    "        except UnicodeError:\n",
    "            pass\n",
    "    return s\n",
    "\n",
    "columns = ['Auteur','Titre', 'Dénomination', 'Domaine', 'Sujet','BASE','NOMOFF', 'LOCA2','REGION', 'DPT', 'Ville_' ]\n",
    "for column in columns:\n",
    "    df_cp1252.loc[:, column] = df[column].apply(convert)"
   ]
  },
  {
   "cell_type": "code",
   "execution_count": 102,
   "metadata": {},
   "outputs": [
    {
     "data": {
      "text/plain": [
       "(650853, 15)"
      ]
     },
     "execution_count": 102,
     "metadata": {},
     "output_type": "execute_result"
    }
   ],
   "source": [
    "# concatenation des 2 df\n",
    "df1 = pd.concat([df_cp1252, df_ok])\n",
    "df1.shape"
   ]
  },
  {
   "cell_type": "code",
   "execution_count": null,
   "metadata": {},
   "outputs": [],
   "source": []
  },
  {
   "cell_type": "markdown",
   "metadata": {},
   "source": [
    "## Suppression des lignes"
   ]
  },
  {
   "cell_type": "code",
   "execution_count": 103,
   "metadata": {},
   "outputs": [
    {
     "data": {
      "text/plain": [
       "(639325, 15)"
      ]
     },
     "execution_count": 103,
     "metadata": {},
     "output_type": "execute_result"
    }
   ],
   "source": [
    "# Ligne en double\n",
    "df1 = df1.drop_duplicates(subset=['ID-notice'],keep='first')\n",
    "df1.shape"
   ]
  },
  {
   "cell_type": "code",
   "execution_count": 104,
   "metadata": {},
   "outputs": [],
   "source": [
    "# Oeuvre n'ayant pas de musé \n",
    "df1 = df1.dropna(subset=['Identifiant Museofile'])"
   ]
  },
  {
   "cell_type": "code",
   "execution_count": 105,
   "metadata": {},
   "outputs": [
    {
     "name": "stdout",
     "output_type": "stream",
     "text": [
      "(639247, 15)\n"
     ]
    },
    {
     "data": {
      "text/html": [
       "<div>\n",
       "<style scoped>\n",
       "    .dataframe tbody tr th:only-of-type {\n",
       "        vertical-align: middle;\n",
       "    }\n",
       "\n",
       "    .dataframe tbody tr th {\n",
       "        vertical-align: top;\n",
       "    }\n",
       "\n",
       "    .dataframe thead th {\n",
       "        text-align: right;\n",
       "    }\n",
       "</style>\n",
       "<table border=\"1\" class=\"dataframe\">\n",
       "  <thead>\n",
       "    <tr style=\"text-align: right;\">\n",
       "      <th></th>\n",
       "      <th>ID-notice</th>\n",
       "      <th>Auteur</th>\n",
       "      <th>Titre</th>\n",
       "      <th>Dénomination</th>\n",
       "      <th>Domaine</th>\n",
       "      <th>Sujet</th>\n",
       "      <th>BASE</th>\n",
       "      <th>CONTIENT_IMAGE</th>\n",
       "      <th>Identifiant Museofile</th>\n",
       "      <th>NOMOFF</th>\n",
       "      <th>LOCA2</th>\n",
       "      <th>REGION</th>\n",
       "      <th>DPT</th>\n",
       "      <th>Ville_</th>\n",
       "      <th>POP_COORDONNEES</th>\n",
       "    </tr>\n",
       "  </thead>\n",
       "  <tbody>\n",
       "    <tr>\n",
       "      <th>177945</th>\n",
       "      <td>00660019655</td>\n",
       "      <td>LACOUR (FILS) Pierre (d'après le dessin de);Ma...</td>\n",
       "      <td>nan</td>\n",
       "      <td>assiette</td>\n",
       "      <td>céramique;arts décoratifs</td>\n",
       "      <td>groupe de figure (nourrice, enfant, madras, fl...</td>\n",
       "      <td>Collections des musées de France (Joconde)</td>\n",
       "      <td>oui</td>\n",
       "      <td>M0066</td>\n",
       "      <td>musée des arts décoratifs et du design</td>\n",
       "      <td>nan</td>\n",
       "      <td>Nouvelle-Aquitaine</td>\n",
       "      <td>Gironde</td>\n",
       "      <td>Bordeaux</td>\n",
       "      <td>44.838956,-0.579686</td>\n",
       "    </tr>\n",
       "    <tr>\n",
       "      <th>177948</th>\n",
       "      <td>00660019661</td>\n",
       "      <td>Manufacture David Johnston</td>\n",
       "      <td>La chasse au canard</td>\n",
       "      <td>assiette</td>\n",
       "      <td>céramique;arts décoratifs;chasse - pÃªche - cu...</td>\n",
       "      <td>scène (chasseur, chien, canard, chasse)</td>\n",
       "      <td>Collections des musées de France (Joconde)</td>\n",
       "      <td>oui</td>\n",
       "      <td>M0066</td>\n",
       "      <td>musée des arts décoratifs et du design</td>\n",
       "      <td>nan</td>\n",
       "      <td>Nouvelle-Aquitaine</td>\n",
       "      <td>Gironde</td>\n",
       "      <td>Bordeaux</td>\n",
       "      <td>44.838956,-0.579686</td>\n",
       "    </tr>\n",
       "    <tr>\n",
       "      <th>177951</th>\n",
       "      <td>01610014524</td>\n",
       "      <td>nan</td>\n",
       "      <td>nan</td>\n",
       "      <td>console (2)</td>\n",
       "      <td>ameublement;sculpture</td>\n",
       "      <td>(console, applique)</td>\n",
       "      <td>Collections des musées de France (Joconde)</td>\n",
       "      <td>oui</td>\n",
       "      <td>M0161</td>\n",
       "      <td>musée Rolin</td>\n",
       "      <td>nan</td>\n",
       "      <td>Bourgogne-Franche-Comté</td>\n",
       "      <td>Saône-et-Loire</td>\n",
       "      <td>Autun</td>\n",
       "      <td>46.945723,4.299216</td>\n",
       "    </tr>\n",
       "  </tbody>\n",
       "</table>\n",
       "</div>"
      ],
      "text/plain": [
       "          ID-notice                                             Auteur  \\\n",
       "177945  00660019655  LACOUR (FILS) Pierre (d'après le dessin de);Ma...   \n",
       "177948  00660019661                         Manufacture David Johnston   \n",
       "177951  01610014524                                                nan   \n",
       "\n",
       "                      Titre Dénomination  \\\n",
       "177945                  nan     assiette   \n",
       "177948  La chasse au canard     assiette   \n",
       "177951                  nan  console (2)   \n",
       "\n",
       "                                                  Domaine  \\\n",
       "177945                          céramique;arts décoratifs   \n",
       "177948  céramique;arts décoratifs;chasse - pÃªche - cu...   \n",
       "177951                              ameublement;sculpture   \n",
       "\n",
       "                                                    Sujet  \\\n",
       "177945  groupe de figure (nourrice, enfant, madras, fl...   \n",
       "177948            scène (chasseur, chien, canard, chasse)   \n",
       "177951                                (console, applique)   \n",
       "\n",
       "                                              BASE CONTIENT_IMAGE  \\\n",
       "177945  Collections des musées de France (Joconde)            oui   \n",
       "177948  Collections des musées de France (Joconde)            oui   \n",
       "177951  Collections des musées de France (Joconde)            oui   \n",
       "\n",
       "       Identifiant Museofile                                  NOMOFF LOCA2  \\\n",
       "177945                 M0066  musée des arts décoratifs et du design   nan   \n",
       "177948                 M0066  musée des arts décoratifs et du design   nan   \n",
       "177951                 M0161                             musée Rolin   nan   \n",
       "\n",
       "                         REGION             DPT    Ville_      POP_COORDONNEES  \n",
       "177945       Nouvelle-Aquitaine         Gironde  Bordeaux  44.838956,-0.579686  \n",
       "177948       Nouvelle-Aquitaine         Gironde  Bordeaux  44.838956,-0.579686  \n",
       "177951  Bourgogne-Franche-Comté  Saône-et-Loire     Autun   46.945723,4.299216  "
      ]
     },
     "execution_count": 105,
     "metadata": {},
     "output_type": "execute_result"
    }
   ],
   "source": [
    "#suppression des nan Identifiant Museofile ne contiene aune info  de locallisation\n",
    "df1 = df1.loc[df1['Identifiant Museofile'].dropna().index]\n",
    "\n",
    "print(df1.shape)\n",
    "df1.head(3)"
   ]
  },
  {
   "cell_type": "code",
   "execution_count": 106,
   "metadata": {},
   "outputs": [],
   "source": [
    "# Mettre des NAN\n",
    "df1.replace('nan',np.nan, inplace=True)\n",
    "df1.replace('',np.nan, inplace=True)\n"
   ]
  },
  {
   "cell_type": "markdown",
   "metadata": {},
   "source": [
    "## Recup auteur"
   ]
  },
  {
   "cell_type": "code",
   "execution_count": 107,
   "metadata": {},
   "outputs": [],
   "source": [
    "\n",
    "def nb_autor(aut):\n",
    "    b=1\n",
    "    if ';' in aut:\n",
    "        b=len(aut.split(\";\"))\n",
    "    return b\n",
    "        "
   ]
  },
  {
   "cell_type": "code",
   "execution_count": null,
   "metadata": {},
   "outputs": [],
   "source": []
  },
  {
   "cell_type": "code",
   "execution_count": 108,
   "metadata": {},
   "outputs": [],
   "source": [
    "def normalize(auts):\n",
    "    clean_auts=[]\n",
    "    for aut in auts : \n",
    "        if '(' in aut:\n",
    "            aut=aut.split('(')[0]\n",
    "        if aut:\n",
    "            clean_auts.append(aut.lower())\n",
    "\n",
    "    return  clean_auts"
   ]
  },
  {
   "cell_type": "code",
   "execution_count": 109,
   "metadata": {},
   "outputs": [],
   "source": [
    "from pandas import isna\n",
    "\n",
    "\n",
    "def net_aut(aut):\n",
    "    if not isna(aut) :\n",
    "        if not isinstance(aut, str):\n",
    "            aut=str(aut)\n",
    "            \n",
    "        if ';' in aut:\n",
    "            aut = aut.split(';')\n",
    "        else:\n",
    "            aut=[aut]\n",
    "\n",
    "        aut=normalize(aut) \n",
    "        \n",
    "    return aut\n"
   ]
  },
  {
   "cell_type": "code",
   "execution_count": 110,
   "metadata": {},
   "outputs": [],
   "source": [
    "# nettoyage des auteur : split , lower , et garder juste le nom/prenom\n",
    "\n",
    "df1.Auteur=df1.Auteur.apply(net_aut)"
   ]
  },
  {
   "cell_type": "code",
   "execution_count": 111,
   "metadata": {},
   "outputs": [],
   "source": [
    "# df_aut = df1[['Auteur','ID-notice']]\n",
    "# df_aut=df_aut.set_index('ID-notice')\n",
    "# df_aut"
   ]
  },
  {
   "cell_type": "code",
   "execution_count": 112,
   "metadata": {},
   "outputs": [],
   "source": [
    "lst=df1.Auteur[df1.Auteur.notna()].values.tolist()"
   ]
  },
  {
   "cell_type": "code",
   "execution_count": 113,
   "metadata": {},
   "outputs": [],
   "source": [
    "aut_lst = []\n",
    "for auts in lst:\n",
    "    aut_lst.extend(auts)\n",
    "aut_lst=list(set(aut_lst))"
   ]
  },
  {
   "cell_type": "code",
   "execution_count": 114,
   "metadata": {},
   "outputs": [
    {
     "data": {
      "text/plain": [
       "55015"
      ]
     },
     "execution_count": 114,
     "metadata": {},
     "output_type": "execute_result"
    }
   ],
   "source": [
    "len(aut_lst)"
   ]
  },
  {
   "cell_type": "code",
   "execution_count": null,
   "metadata": {},
   "outputs": [],
   "source": []
  },
  {
   "cell_type": "code",
   "execution_count": null,
   "metadata": {},
   "outputs": [],
   "source": []
  },
  {
   "cell_type": "code",
   "execution_count": null,
   "metadata": {},
   "outputs": [],
   "source": []
  },
  {
   "cell_type": "code",
   "execution_count": null,
   "metadata": {},
   "outputs": [],
   "source": []
  },
  {
   "cell_type": "code",
   "execution_count": null,
   "metadata": {},
   "outputs": [],
   "source": []
  },
  {
   "cell_type": "markdown",
   "metadata": {},
   "source": [
    "## Recup musée"
   ]
  },
  {
   "cell_type": "code",
   "execution_count": null,
   "metadata": {},
   "outputs": [],
   "source": []
  },
  {
   "cell_type": "code",
   "execution_count": 115,
   "metadata": {},
   "outputs": [],
   "source": [
    "df2=df1.copy()"
   ]
  },
  {
   "cell_type": "code",
   "execution_count": 116,
   "metadata": {},
   "outputs": [
    {
     "data": {
      "text/plain": [
       "(488,)"
      ]
     },
     "execution_count": 116,
     "metadata": {},
     "output_type": "execute_result"
    }
   ],
   "source": [
    "df2['Identifiant Museofile'].unique().shape"
   ]
  },
  {
   "cell_type": "code",
   "execution_count": 117,
   "metadata": {},
   "outputs": [],
   "source": [
    "df2 = df2[['Identifiant Museofile','NOMOFF','REGION','DPT','Ville_','POP_COORDONNEES']]\n",
    "df2.columns = ['id','nom','region','dept','ville','geoloc']"
   ]
  },
  {
   "cell_type": "code",
   "execution_count": 118,
   "metadata": {},
   "outputs": [
    {
     "data": {
      "text/html": [
       "<div>\n",
       "<style scoped>\n",
       "    .dataframe tbody tr th:only-of-type {\n",
       "        vertical-align: middle;\n",
       "    }\n",
       "\n",
       "    .dataframe tbody tr th {\n",
       "        vertical-align: top;\n",
       "    }\n",
       "\n",
       "    .dataframe thead th {\n",
       "        text-align: right;\n",
       "    }\n",
       "</style>\n",
       "<table border=\"1\" class=\"dataframe\">\n",
       "  <thead>\n",
       "    <tr style=\"text-align: right;\">\n",
       "      <th></th>\n",
       "      <th>id</th>\n",
       "      <th>nom</th>\n",
       "      <th>region</th>\n",
       "      <th>dept</th>\n",
       "      <th>ville</th>\n",
       "      <th>geoloc</th>\n",
       "    </tr>\n",
       "  </thead>\n",
       "  <tbody>\n",
       "    <tr>\n",
       "      <th>177945</th>\n",
       "      <td>M0066</td>\n",
       "      <td>musée des arts décoratifs et du design</td>\n",
       "      <td>Nouvelle-Aquitaine</td>\n",
       "      <td>Gironde</td>\n",
       "      <td>Bordeaux</td>\n",
       "      <td>44.838956,-0.579686</td>\n",
       "    </tr>\n",
       "    <tr>\n",
       "      <th>177948</th>\n",
       "      <td>M0066</td>\n",
       "      <td>musée des arts décoratifs et du design</td>\n",
       "      <td>Nouvelle-Aquitaine</td>\n",
       "      <td>Gironde</td>\n",
       "      <td>Bordeaux</td>\n",
       "      <td>44.838956,-0.579686</td>\n",
       "    </tr>\n",
       "    <tr>\n",
       "      <th>177951</th>\n",
       "      <td>M0161</td>\n",
       "      <td>musée Rolin</td>\n",
       "      <td>Bourgogne-Franche-Comté</td>\n",
       "      <td>Saône-et-Loire</td>\n",
       "      <td>Autun</td>\n",
       "      <td>46.945723,4.299216</td>\n",
       "    </tr>\n",
       "    <tr>\n",
       "      <th>177954</th>\n",
       "      <td>M0161</td>\n",
       "      <td>musée Rolin</td>\n",
       "      <td>Bourgogne-Franche-Comté</td>\n",
       "      <td>Saône-et-Loire</td>\n",
       "      <td>Autun</td>\n",
       "      <td>46.945723,4.299216</td>\n",
       "    </tr>\n",
       "    <tr>\n",
       "      <th>177957</th>\n",
       "      <td>M0161</td>\n",
       "      <td>musée Rolin</td>\n",
       "      <td>Bourgogne-Franche-Comté</td>\n",
       "      <td>Saône-et-Loire</td>\n",
       "      <td>Autun</td>\n",
       "      <td>46.945723,4.299216</td>\n",
       "    </tr>\n",
       "    <tr>\n",
       "      <th>...</th>\n",
       "      <td>...</td>\n",
       "      <td>...</td>\n",
       "      <td>...</td>\n",
       "      <td>...</td>\n",
       "      <td>...</td>\n",
       "      <td>...</td>\n",
       "    </tr>\n",
       "    <tr>\n",
       "      <th>650185</th>\n",
       "      <td>M0805</td>\n",
       "      <td>Maison Gallé-Juillet</td>\n",
       "      <td>Hauts-de-France</td>\n",
       "      <td>Oise</td>\n",
       "      <td>Creil</td>\n",
       "      <td>49.260793,2.473388</td>\n",
       "    </tr>\n",
       "    <tr>\n",
       "      <th>650186</th>\n",
       "      <td>M0189</td>\n",
       "      <td>musée municipal</td>\n",
       "      <td>Bourgogne-Franche-Comté</td>\n",
       "      <td>Yonne</td>\n",
       "      <td>Sens</td>\n",
       "      <td>48.197828,3.284505</td>\n",
       "    </tr>\n",
       "    <tr>\n",
       "      <th>650187</th>\n",
       "      <td>M0161</td>\n",
       "      <td>musée Rolin</td>\n",
       "      <td>Bourgogne-Franche-Comté</td>\n",
       "      <td>Saône-et-Loire</td>\n",
       "      <td>Autun</td>\n",
       "      <td>46.945723,4.299216</td>\n",
       "    </tr>\n",
       "    <tr>\n",
       "      <th>650188</th>\n",
       "      <td>M0161</td>\n",
       "      <td>musée Rolin</td>\n",
       "      <td>Bourgogne-Franche-Comté</td>\n",
       "      <td>Saône-et-Loire</td>\n",
       "      <td>Autun</td>\n",
       "      <td>46.945723,4.299216</td>\n",
       "    </tr>\n",
       "    <tr>\n",
       "      <th>650189</th>\n",
       "      <td>M5001</td>\n",
       "      <td>musée d’archéologie nationale (des origines à ...</td>\n",
       "      <td>Ile-de-France</td>\n",
       "      <td>Yvelines</td>\n",
       "      <td>Saint-Germain-en-Laye</td>\n",
       "      <td>48.897879,2.094936</td>\n",
       "    </tr>\n",
       "  </tbody>\n",
       "</table>\n",
       "<p>639247 rows × 6 columns</p>\n",
       "</div>"
      ],
      "text/plain": [
       "           id                                                nom  \\\n",
       "177945  M0066             musée des arts décoratifs et du design   \n",
       "177948  M0066             musée des arts décoratifs et du design   \n",
       "177951  M0161                                        musée Rolin   \n",
       "177954  M0161                                        musée Rolin   \n",
       "177957  M0161                                        musée Rolin   \n",
       "...       ...                                                ...   \n",
       "650185  M0805                               Maison Gallé-Juillet   \n",
       "650186  M0189                                    musée municipal   \n",
       "650187  M0161                                        musée Rolin   \n",
       "650188  M0161                                        musée Rolin   \n",
       "650189  M5001  musée d’archéologie nationale (des origines à ...   \n",
       "\n",
       "                         region            dept                  ville  \\\n",
       "177945       Nouvelle-Aquitaine         Gironde               Bordeaux   \n",
       "177948       Nouvelle-Aquitaine         Gironde               Bordeaux   \n",
       "177951  Bourgogne-Franche-Comté  Saône-et-Loire                  Autun   \n",
       "177954  Bourgogne-Franche-Comté  Saône-et-Loire                  Autun   \n",
       "177957  Bourgogne-Franche-Comté  Saône-et-Loire                  Autun   \n",
       "...                         ...             ...                    ...   \n",
       "650185          Hauts-de-France            Oise                  Creil   \n",
       "650186  Bourgogne-Franche-Comté           Yonne                   Sens   \n",
       "650187  Bourgogne-Franche-Comté  Saône-et-Loire                  Autun   \n",
       "650188  Bourgogne-Franche-Comté  Saône-et-Loire                  Autun   \n",
       "650189            Ile-de-France        Yvelines  Saint-Germain-en-Laye   \n",
       "\n",
       "                     geoloc  \n",
       "177945  44.838956,-0.579686  \n",
       "177948  44.838956,-0.579686  \n",
       "177951   46.945723,4.299216  \n",
       "177954   46.945723,4.299216  \n",
       "177957   46.945723,4.299216  \n",
       "...                     ...  \n",
       "650185   49.260793,2.473388  \n",
       "650186   48.197828,3.284505  \n",
       "650187   46.945723,4.299216  \n",
       "650188   46.945723,4.299216  \n",
       "650189   48.897879,2.094936  \n",
       "\n",
       "[639247 rows x 6 columns]"
      ]
     },
     "execution_count": 118,
     "metadata": {},
     "output_type": "execute_result"
    }
   ],
   "source": [
    "df2"
   ]
  },
  {
   "cell_type": "code",
   "execution_count": null,
   "metadata": {},
   "outputs": [],
   "source": []
  },
  {
   "cell_type": "code",
   "execution_count": null,
   "metadata": {},
   "outputs": [],
   "source": []
  },
  {
   "cell_type": "code",
   "execution_count": 119,
   "metadata": {},
   "outputs": [],
   "source": [
    "df2.drop(df2[df2['id']== '0000'].index,inplace=True)\n",
    "df2['id'].replace('5027','M5027',inplace=True)\n",
    "df2['id']=df2['id'].apply(lambda x: x.upper())"
   ]
  },
  {
   "cell_type": "code",
   "execution_count": null,
   "metadata": {},
   "outputs": [],
   "source": []
  },
  {
   "cell_type": "code",
   "execution_count": 120,
   "metadata": {},
   "outputs": [],
   "source": [
    "# met en majuscule le Mdevant le numero de musé\n"
   ]
  },
  {
   "cell_type": "code",
   "execution_count": 121,
   "metadata": {},
   "outputs": [],
   "source": [
    "#ajoute un M a ceux qui ne l ont pas\n",
    "# df2['Identifiant Museofile']=df2['Identifiant Museofile'].apply(lambda x: 'M'+x if x[0]!='M' else x)"
   ]
  },
  {
   "cell_type": "code",
   "execution_count": 122,
   "metadata": {},
   "outputs": [],
   "source": [
    "# ordonne ceux qui ont le plus de données en premier et supprime les doublons\n",
    "df2['nb_nan']=df2.isna().sum(axis=1)\n",
    "df2=df2.sort_values('nb_nan')\n",
    "df2=df2.drop_duplicates(subset='id',keep='first')\n",
    "df2=df2.drop(columns=['nb_nan'])\n",
    "df2=df2.sort_values('id')"
   ]
  },
  {
   "cell_type": "code",
   "execution_count": 123,
   "metadata": {},
   "outputs": [
    {
     "data": {
      "text/plain": [
       "(485,)"
      ]
     },
     "execution_count": 123,
     "metadata": {},
     "output_type": "execute_result"
    }
   ],
   "source": [
    "df2['id'].unique().shape\n",
    "\n"
   ]
  },
  {
   "cell_type": "code",
   "execution_count": 124,
   "metadata": {},
   "outputs": [
    {
     "ename": "TypeError",
     "evalue": "\"value\" parameter must be a scalar or dict, but you passed a \"list\"",
     "output_type": "error",
     "traceback": [
      "\u001b[1;31m---------------------------------------------------------------------------\u001b[0m",
      "\u001b[1;31mTypeError\u001b[0m                                 Traceback (most recent call last)",
      "\u001b[1;32m~\\AppData\\Local\\Temp\\ipykernel_15616\\2379543473.py\u001b[0m in \u001b[0;36m<module>\u001b[1;34m\u001b[0m\n\u001b[0;32m      1\u001b[0m \u001b[0mdf2\u001b[0m\u001b[1;33m=\u001b[0m\u001b[0mdf2\u001b[0m\u001b[1;33m.\u001b[0m\u001b[0mreset_index\u001b[0m\u001b[1;33m(\u001b[0m\u001b[0mdrop\u001b[0m\u001b[1;33m=\u001b[0m\u001b[1;32mTrue\u001b[0m\u001b[1;33m)\u001b[0m\u001b[1;33m\u001b[0m\u001b[1;33m\u001b[0m\u001b[0m\n\u001b[1;32m----> 2\u001b[1;33m \u001b[0mdf2\u001b[0m\u001b[1;33m=\u001b[0m\u001b[0mdf2\u001b[0m\u001b[1;33m.\u001b[0m\u001b[0mfillna\u001b[0m\u001b[1;33m(\u001b[0m\u001b[1;33m[\u001b[0m\u001b[1;34m'inconnue'\u001b[0m\u001b[1;33m]\u001b[0m\u001b[1;33m)\u001b[0m\u001b[1;33m\u001b[0m\u001b[1;33m\u001b[0m\u001b[0m\n\u001b[0m\u001b[0;32m      3\u001b[0m \u001b[0mdf2\u001b[0m\u001b[1;33m\u001b[0m\u001b[1;33m\u001b[0m\u001b[0m\n",
      "\u001b[1;32m~\\AppData\\Roaming\\Python\\Python39\\site-packages\\pandas\\util\\_decorators.py\u001b[0m in \u001b[0;36mwrapper\u001b[1;34m(*args, **kwargs)\u001b[0m\n\u001b[0;32m    309\u001b[0m                     \u001b[0mstacklevel\u001b[0m\u001b[1;33m=\u001b[0m\u001b[0mstacklevel\u001b[0m\u001b[1;33m,\u001b[0m\u001b[1;33m\u001b[0m\u001b[1;33m\u001b[0m\u001b[0m\n\u001b[0;32m    310\u001b[0m                 )\n\u001b[1;32m--> 311\u001b[1;33m             \u001b[1;32mreturn\u001b[0m \u001b[0mfunc\u001b[0m\u001b[1;33m(\u001b[0m\u001b[1;33m*\u001b[0m\u001b[0margs\u001b[0m\u001b[1;33m,\u001b[0m \u001b[1;33m**\u001b[0m\u001b[0mkwargs\u001b[0m\u001b[1;33m)\u001b[0m\u001b[1;33m\u001b[0m\u001b[1;33m\u001b[0m\u001b[0m\n\u001b[0m\u001b[0;32m    312\u001b[0m \u001b[1;33m\u001b[0m\u001b[0m\n\u001b[0;32m    313\u001b[0m         \u001b[1;32mreturn\u001b[0m \u001b[0mwrapper\u001b[0m\u001b[1;33m\u001b[0m\u001b[1;33m\u001b[0m\u001b[0m\n",
      "\u001b[1;32m~\\AppData\\Roaming\\Python\\Python39\\site-packages\\pandas\\core\\frame.py\u001b[0m in \u001b[0;36mfillna\u001b[1;34m(self, value, method, axis, inplace, limit, downcast)\u001b[0m\n\u001b[0;32m   5174\u001b[0m         \u001b[0mdowncast\u001b[0m\u001b[1;33m=\u001b[0m\u001b[1;32mNone\u001b[0m\u001b[1;33m,\u001b[0m\u001b[1;33m\u001b[0m\u001b[1;33m\u001b[0m\u001b[0m\n\u001b[0;32m   5175\u001b[0m     ) -> DataFrame | None:\n\u001b[1;32m-> 5176\u001b[1;33m         return super().fillna(\n\u001b[0m\u001b[0;32m   5177\u001b[0m             \u001b[0mvalue\u001b[0m\u001b[1;33m=\u001b[0m\u001b[0mvalue\u001b[0m\u001b[1;33m,\u001b[0m\u001b[1;33m\u001b[0m\u001b[1;33m\u001b[0m\u001b[0m\n\u001b[0;32m   5178\u001b[0m             \u001b[0mmethod\u001b[0m\u001b[1;33m=\u001b[0m\u001b[0mmethod\u001b[0m\u001b[1;33m,\u001b[0m\u001b[1;33m\u001b[0m\u001b[1;33m\u001b[0m\u001b[0m\n",
      "\u001b[1;32m~\\AppData\\Roaming\\Python\\Python39\\site-packages\\pandas\\core\\generic.py\u001b[0m in \u001b[0;36mfillna\u001b[1;34m(self, value, method, axis, inplace, limit, downcast)\u001b[0m\n\u001b[0;32m   6311\u001b[0m         \"\"\"\n\u001b[0;32m   6312\u001b[0m         \u001b[0minplace\u001b[0m \u001b[1;33m=\u001b[0m \u001b[0mvalidate_bool_kwarg\u001b[0m\u001b[1;33m(\u001b[0m\u001b[0minplace\u001b[0m\u001b[1;33m,\u001b[0m \u001b[1;34m\"inplace\"\u001b[0m\u001b[1;33m)\u001b[0m\u001b[1;33m\u001b[0m\u001b[1;33m\u001b[0m\u001b[0m\n\u001b[1;32m-> 6313\u001b[1;33m         \u001b[0mvalue\u001b[0m\u001b[1;33m,\u001b[0m \u001b[0mmethod\u001b[0m \u001b[1;33m=\u001b[0m \u001b[0mvalidate_fillna_kwargs\u001b[0m\u001b[1;33m(\u001b[0m\u001b[0mvalue\u001b[0m\u001b[1;33m,\u001b[0m \u001b[0mmethod\u001b[0m\u001b[1;33m)\u001b[0m\u001b[1;33m\u001b[0m\u001b[1;33m\u001b[0m\u001b[0m\n\u001b[0m\u001b[0;32m   6314\u001b[0m \u001b[1;33m\u001b[0m\u001b[0m\n\u001b[0;32m   6315\u001b[0m         \u001b[0mself\u001b[0m\u001b[1;33m.\u001b[0m\u001b[0m_consolidate_inplace\u001b[0m\u001b[1;33m(\u001b[0m\u001b[1;33m)\u001b[0m\u001b[1;33m\u001b[0m\u001b[1;33m\u001b[0m\u001b[0m\n",
      "\u001b[1;32m~\\AppData\\Roaming\\Python\\Python39\\site-packages\\pandas\\util\\_validators.py\u001b[0m in \u001b[0;36mvalidate_fillna_kwargs\u001b[1;34m(value, method, validate_scalar_dict_value)\u001b[0m\n\u001b[0;32m    374\u001b[0m     \u001b[1;32melif\u001b[0m \u001b[0mvalue\u001b[0m \u001b[1;32mis\u001b[0m \u001b[1;32mnot\u001b[0m \u001b[1;32mNone\u001b[0m \u001b[1;32mand\u001b[0m \u001b[0mmethod\u001b[0m \u001b[1;32mis\u001b[0m \u001b[1;32mNone\u001b[0m\u001b[1;33m:\u001b[0m\u001b[1;33m\u001b[0m\u001b[1;33m\u001b[0m\u001b[0m\n\u001b[0;32m    375\u001b[0m         \u001b[1;32mif\u001b[0m \u001b[0mvalidate_scalar_dict_value\u001b[0m \u001b[1;32mand\u001b[0m \u001b[0misinstance\u001b[0m\u001b[1;33m(\u001b[0m\u001b[0mvalue\u001b[0m\u001b[1;33m,\u001b[0m \u001b[1;33m(\u001b[0m\u001b[0mlist\u001b[0m\u001b[1;33m,\u001b[0m \u001b[0mtuple\u001b[0m\u001b[1;33m)\u001b[0m\u001b[1;33m)\u001b[0m\u001b[1;33m:\u001b[0m\u001b[1;33m\u001b[0m\u001b[1;33m\u001b[0m\u001b[0m\n\u001b[1;32m--> 376\u001b[1;33m             raise TypeError(\n\u001b[0m\u001b[0;32m    377\u001b[0m                 \u001b[1;34m'\"value\" parameter must be a scalar or dict, but '\u001b[0m\u001b[1;33m\u001b[0m\u001b[1;33m\u001b[0m\u001b[0m\n\u001b[0;32m    378\u001b[0m                 \u001b[1;34mf'you passed a \"{type(value).__name__}\"'\u001b[0m\u001b[1;33m\u001b[0m\u001b[1;33m\u001b[0m\u001b[0m\n",
      "\u001b[1;31mTypeError\u001b[0m: \"value\" parameter must be a scalar or dict, but you passed a \"list\""
     ]
    }
   ],
   "source": [
    "df2=df2.reset_index(drop=True)\n",
    "df2=df2.fillna(['inconnue'])\n",
    "df2"
   ]
  },
  {
   "cell_type": "code",
   "execution_count": null,
   "metadata": {},
   "outputs": [
    {
     "data": {
      "text/plain": [
       "id                                        B9001\n",
       "nom       Bibliothèque de l’Assemblée Nationale\n",
       "region                            Ile-de-France\n",
       "dept                                      75007\n",
       "ville                Paris, Assemblée nationale\n",
       "geoloc                         48.86215,2.31897\n",
       "Name: 549015, dtype: object"
      ]
     },
     "execution_count": 58,
     "metadata": {},
     "output_type": "execute_result"
    }
   ],
   "source": [
    "df2.iloc[0,:]"
   ]
  },
  {
   "cell_type": "code",
   "execution_count": null,
   "metadata": {},
   "outputs": [
    {
     "data": {
      "text/plain": [
       "['B9001',\n",
       " 'Bibliothèque de l’Assemblée Nationale',\n",
       " 'Ile-de-France',\n",
       " '75007',\n",
       " 'Paris, Assemblée nationale',\n",
       " '48.86215,2.31897']"
      ]
     },
     "execution_count": 59,
     "metadata": {},
     "output_type": "execute_result"
    }
   ],
   "source": [
    "line=df2.iloc[0,:].values.tolist()\n",
    "line"
   ]
  },
  {
   "cell_type": "code",
   "execution_count": null,
   "metadata": {},
   "outputs": [
    {
     "name": "stdout",
     "output_type": "stream",
     "text": [
      "id\n",
      "nom\n",
      "region\n",
      "dept\n",
      "ville\n",
      "geoloc\n"
     ]
    }
   ],
   "source": [
    "for i in df2[:5]:\n",
    "    print (i)\n"
   ]
  },
  {
   "cell_type": "code",
   "execution_count": null,
   "metadata": {},
   "outputs": [],
   "source": [
    "a=np.nan"
   ]
  },
  {
   "cell_type": "code",
   "execution_count": null,
   "metadata": {},
   "outputs": [
    {
     "data": {
      "text/plain": [
       "True"
      ]
     },
     "execution_count": 63,
     "metadata": {},
     "output_type": "execute_result"
    }
   ],
   "source": [
    "np.isnan(a)"
   ]
  },
  {
   "cell_type": "code",
   "execution_count": null,
   "metadata": {},
   "outputs": [
    {
     "data": {
      "text/html": [
       "<div>\n",
       "<style scoped>\n",
       "    .dataframe tbody tr th:only-of-type {\n",
       "        vertical-align: middle;\n",
       "    }\n",
       "\n",
       "    .dataframe tbody tr th {\n",
       "        vertical-align: top;\n",
       "    }\n",
       "\n",
       "    .dataframe thead th {\n",
       "        text-align: right;\n",
       "    }\n",
       "</style>\n",
       "<table border=\"1\" class=\"dataframe\">\n",
       "  <thead>\n",
       "    <tr style=\"text-align: right;\">\n",
       "      <th></th>\n",
       "      <th>id</th>\n",
       "      <th>nom</th>\n",
       "      <th>region</th>\n",
       "      <th>dept</th>\n",
       "      <th>ville</th>\n",
       "      <th>geoloc</th>\n",
       "    </tr>\n",
       "  </thead>\n",
       "  <tbody>\n",
       "    <tr>\n",
       "      <th>549015</th>\n",
       "      <td>B9001</td>\n",
       "      <td>Bibliothèque de l’Assemblée Nationale</td>\n",
       "      <td>Ile-de-France</td>\n",
       "      <td>75007</td>\n",
       "      <td>Paris, Assemblée nationale</td>\n",
       "      <td>48.86215,2.31897</td>\n",
       "    </tr>\n",
       "    <tr>\n",
       "      <th>387237</th>\n",
       "      <td>B9002</td>\n",
       "      <td>Bibliothèque municipale de Grasse</td>\n",
       "      <td>Provence-Alpes-Côte d'Azur</td>\n",
       "      <td>Alpes-Maritimes</td>\n",
       "      <td>Grasse</td>\n",
       "      <td>43.65559,6.91736</td>\n",
       "    </tr>\n",
       "    <tr>\n",
       "      <th>388838</th>\n",
       "      <td>B9003</td>\n",
       "      <td>Bibliothèque municipale de Besançon</td>\n",
       "      <td>Bourgogne-Franche-Comté</td>\n",
       "      <td>Doubs</td>\n",
       "      <td>Besançon</td>\n",
       "      <td>47.23649,6.0274</td>\n",
       "    </tr>\n",
       "    <tr>\n",
       "      <th>635366</th>\n",
       "      <td>M0000</td>\n",
       "      <td>NaN</td>\n",
       "      <td>NaN</td>\n",
       "      <td>NaN</td>\n",
       "      <td>Troyes</td>\n",
       "      <td>0.0,0.0</td>\n",
       "    </tr>\n",
       "    <tr>\n",
       "      <th>426047</th>\n",
       "      <td>M0003</td>\n",
       "      <td>musée du Pays de Hanau - histoire et vies d’un...</td>\n",
       "      <td>Grand Est</td>\n",
       "      <td>Bas-Rhin</td>\n",
       "      <td>Bouxwiller</td>\n",
       "      <td>48.824977,7.482915</td>\n",
       "    </tr>\n",
       "    <tr>\n",
       "      <th>...</th>\n",
       "      <td>...</td>\n",
       "      <td>...</td>\n",
       "      <td>...</td>\n",
       "      <td>...</td>\n",
       "      <td>...</td>\n",
       "      <td>...</td>\n",
       "    </tr>\n",
       "    <tr>\n",
       "      <th>446855</th>\n",
       "      <td>M7048</td>\n",
       "      <td>muséum-Aquarium de Nancy</td>\n",
       "      <td>Grand Est</td>\n",
       "      <td>Meurthe-et-Moselle</td>\n",
       "      <td>Nancy</td>\n",
       "      <td>48.695072,6.188467</td>\n",
       "    </tr>\n",
       "    <tr>\n",
       "      <th>385579</th>\n",
       "      <td>M7050</td>\n",
       "      <td>muséum d'histoire naturelle</td>\n",
       "      <td>Provence-Alpes-Côte d'Azur</td>\n",
       "      <td>Alpes-Maritimes</td>\n",
       "      <td>Nice</td>\n",
       "      <td>43.701924,7.279572</td>\n",
       "    </tr>\n",
       "    <tr>\n",
       "      <th>547701</th>\n",
       "      <td>M7051</td>\n",
       "      <td>muséum d'histoire naturelle et de préhistoire</td>\n",
       "      <td>Occitanie</td>\n",
       "      <td>Gard</td>\n",
       "      <td>Nîmes</td>\n",
       "      <td>43.83798099757179,4.363712139325677</td>\n",
       "    </tr>\n",
       "    <tr>\n",
       "      <th>610512</th>\n",
       "      <td>M9007</td>\n",
       "      <td>musée de l’artillerie et de l’Infanterie</td>\n",
       "      <td>Provence-Alpes-Côte d'Azur</td>\n",
       "      <td>Var</td>\n",
       "      <td>Versailles</td>\n",
       "      <td>43.529648,6.495058</td>\n",
       "    </tr>\n",
       "    <tr>\n",
       "      <th>640526</th>\n",
       "      <td>M9036</td>\n",
       "      <td>NaN</td>\n",
       "      <td>NaN</td>\n",
       "      <td>NaN</td>\n",
       "      <td>Tours</td>\n",
       "      <td>0.0,0.0</td>\n",
       "    </tr>\n",
       "  </tbody>\n",
       "</table>\n",
       "<p>485 rows × 6 columns</p>\n",
       "</div>"
      ],
      "text/plain": [
       "           id                                                nom  \\\n",
       "549015  B9001              Bibliothèque de l’Assemblée Nationale   \n",
       "387237  B9002                  Bibliothèque municipale de Grasse   \n",
       "388838  B9003                Bibliothèque municipale de Besançon   \n",
       "635366  M0000                                                NaN   \n",
       "426047  M0003  musée du Pays de Hanau - histoire et vies d’un...   \n",
       "...       ...                                                ...   \n",
       "446855  M7048                           muséum-Aquarium de Nancy   \n",
       "385579  M7050                        muséum d'histoire naturelle   \n",
       "547701  M7051      muséum d'histoire naturelle et de préhistoire   \n",
       "610512  M9007           musée de l’artillerie et de l’Infanterie   \n",
       "640526  M9036                                                NaN   \n",
       "\n",
       "                            region                dept  \\\n",
       "549015               Ile-de-France               75007   \n",
       "387237  Provence-Alpes-Côte d'Azur     Alpes-Maritimes   \n",
       "388838     Bourgogne-Franche-Comté               Doubs   \n",
       "635366                         NaN                 NaN   \n",
       "426047                   Grand Est            Bas-Rhin   \n",
       "...                            ...                 ...   \n",
       "446855                   Grand Est  Meurthe-et-Moselle   \n",
       "385579  Provence-Alpes-Côte d'Azur     Alpes-Maritimes   \n",
       "547701                   Occitanie                Gard   \n",
       "610512  Provence-Alpes-Côte d'Azur                 Var   \n",
       "640526                         NaN                 NaN   \n",
       "\n",
       "                             ville                               geoloc  \n",
       "549015  Paris, Assemblée nationale                     48.86215,2.31897  \n",
       "387237                      Grasse                     43.65559,6.91736  \n",
       "388838                    Besançon                      47.23649,6.0274  \n",
       "635366                      Troyes                              0.0,0.0  \n",
       "426047                  Bouxwiller                   48.824977,7.482915  \n",
       "...                            ...                                  ...  \n",
       "446855                       Nancy                   48.695072,6.188467  \n",
       "385579                        Nice                   43.701924,7.279572  \n",
       "547701                       Nîmes  43.83798099757179,4.363712139325677  \n",
       "610512                  Versailles                   43.529648,6.495058  \n",
       "640526                       Tours                              0.0,0.0  \n",
       "\n",
       "[485 rows x 6 columns]"
      ]
     },
     "execution_count": 64,
     "metadata": {},
     "output_type": "execute_result"
    }
   ],
   "source": [
    "df2\n"
   ]
  },
  {
   "cell_type": "code",
   "execution_count": null,
   "metadata": {},
   "outputs": [
    {
     "data": {
      "text/plain": [
       "0                            LE GULUCHE Joseph Marie\n",
       "1                                   THOMSEN Constant\n",
       "2                   FJERDINGSTAD Christian (orfèvre)\n",
       "3                                      DUTHOIT Louis\n",
       "4                         DUTHOIT Aimé;DUTHOIT Louis\n",
       "                             ...                    \n",
       "650848    SAINT-GERMAIN Marguerite (De) (cÃ©ramiste)\n",
       "650849                Christofle Charles (1805-1863)\n",
       "650850              VERRERIE / FRANCE (cristallerie)\n",
       "650851                LAMOISSE EugÃ¨ne (dessinateur)\n",
       "650852                                       anonyme\n",
       "Name: Auteur, Length: 650853, dtype: object"
      ]
     },
     "execution_count": 69,
     "metadata": {},
     "output_type": "execute_result"
    }
   ],
   "source": [
    "df.Auteur"
   ]
  },
  {
   "cell_type": "code",
   "execution_count": null,
   "metadata": {},
   "outputs": [],
   "source": [
    "# df.Auteur = df.Auteur.apply(lambda x: ['non renseigné'] if pd.isnull(x) else x)"
   ]
  },
  {
   "cell_type": "code",
   "execution_count": null,
   "metadata": {},
   "outputs": [
    {
     "data": {
      "text/html": [
       "<div>\n",
       "<style scoped>\n",
       "    .dataframe tbody tr th:only-of-type {\n",
       "        vertical-align: middle;\n",
       "    }\n",
       "\n",
       "    .dataframe tbody tr th {\n",
       "        vertical-align: top;\n",
       "    }\n",
       "\n",
       "    .dataframe thead th {\n",
       "        text-align: right;\n",
       "    }\n",
       "</style>\n",
       "<table border=\"1\" class=\"dataframe\">\n",
       "  <thead>\n",
       "    <tr style=\"text-align: right;\">\n",
       "      <th></th>\n",
       "      <th>ID-notice</th>\n",
       "      <th>Auteur</th>\n",
       "      <th>Titre</th>\n",
       "      <th>Dénomination</th>\n",
       "      <th>Domaine</th>\n",
       "      <th>Sujet</th>\n",
       "      <th>BASE</th>\n",
       "      <th>CONTIENT_IMAGE</th>\n",
       "      <th>Identifiant Museofile</th>\n",
       "      <th>NOMOFF</th>\n",
       "      <th>LOCA2</th>\n",
       "      <th>REGION</th>\n",
       "      <th>DPT</th>\n",
       "      <th>Ville_</th>\n",
       "      <th>POP_COORDONNEES</th>\n",
       "    </tr>\n",
       "  </thead>\n",
       "  <tbody>\n",
       "  </tbody>\n",
       "</table>\n",
       "</div>"
      ],
      "text/plain": [
       "Empty DataFrame\n",
       "Columns: [ID-notice, Auteur, Titre, Dénomination, Domaine, Sujet, BASE, CONTIENT_IMAGE, Identifiant Museofile, NOMOFF, LOCA2, REGION, DPT, Ville_, POP_COORDONNEES]\n",
       "Index: []"
      ]
     },
     "execution_count": 73,
     "metadata": {},
     "output_type": "execute_result"
    }
   ],
   "source": [
    "df[df.Auteur.isna()]"
   ]
  },
  {
   "cell_type": "code",
   "execution_count": null,
   "metadata": {},
   "outputs": [],
   "source": [
    "a=['qsg',]\n",
    "if pd.isnull(a).any() :\n",
    "    print('notok')"
   ]
  },
  {
   "cell_type": "code",
   "execution_count": null,
   "metadata": {},
   "outputs": [
    {
     "ename": "AttributeError",
     "evalue": "'bool' object has no attribute 'all'",
     "output_type": "error",
     "traceback": [
      "\u001b[1;31m---------------------------------------------------------------------------\u001b[0m",
      "\u001b[1;31mAttributeError\u001b[0m                            Traceback (most recent call last)",
      "\u001b[1;32m~\\AppData\\Local\\Temp\\ipykernel_15616\\3009729099.py\u001b[0m in \u001b[0;36m<module>\u001b[1;34m\u001b[0m\n\u001b[0;32m      1\u001b[0m \u001b[0mb\u001b[0m\u001b[1;33m=\u001b[0m\u001b[0mnp\u001b[0m\u001b[1;33m.\u001b[0m\u001b[0mnan\u001b[0m\u001b[1;33m\u001b[0m\u001b[1;33m\u001b[0m\u001b[0m\n\u001b[1;32m----> 2\u001b[1;33m \u001b[0mpd\u001b[0m\u001b[1;33m.\u001b[0m\u001b[0misnull\u001b[0m\u001b[1;33m(\u001b[0m\u001b[0mb\u001b[0m\u001b[1;33m)\u001b[0m\u001b[1;33m.\u001b[0m\u001b[0mall\u001b[0m\u001b[1;33m(\u001b[0m\u001b[1;33m)\u001b[0m\u001b[1;33m\u001b[0m\u001b[1;33m\u001b[0m\u001b[0m\n\u001b[0m",
      "\u001b[1;31mAttributeError\u001b[0m: 'bool' object has no attribute 'all'"
     ]
    }
   ],
   "source": [
    "b=np.nan\n",
    "pd.isnull(b).all()"
   ]
  },
  {
   "cell_type": "code",
   "execution_count": null,
   "metadata": {},
   "outputs": [
    {
     "data": {
      "text/plain": [
       "0"
      ]
     },
     "execution_count": 90,
     "metadata": {},
     "output_type": "execute_result"
    }
   ],
   "source": [
    "df.Auteur.isna().sum()"
   ]
  },
  {
   "cell_type": "code",
   "execution_count": 125,
   "metadata": {},
   "outputs": [],
   "source": [
    "df3=df.copy()"
   ]
  },
  {
   "cell_type": "code",
   "execution_count": 129,
   "metadata": {},
   "outputs": [
    {
     "ename": "TypeError",
     "evalue": "Invalid \"to_replace\" type: 'float'",
     "output_type": "error",
     "traceback": [
      "\u001b[1;31m---------------------------------------------------------------------------\u001b[0m",
      "\u001b[1;31mTypeError\u001b[0m                                 Traceback (most recent call last)",
      "\u001b[1;32m~\\AppData\\Local\\Temp\\ipykernel_15616\\935305152.py\u001b[0m in \u001b[0;36m<module>\u001b[1;34m\u001b[0m\n\u001b[1;32m----> 1\u001b[1;33m \u001b[0mdf3\u001b[0m\u001b[1;33m.\u001b[0m\u001b[0mAuteur\u001b[0m\u001b[1;33m.\u001b[0m\u001b[0mreplace\u001b[0m\u001b[1;33m(\u001b[0m\u001b[0mnp\u001b[0m\u001b[1;33m.\u001b[0m\u001b[0mnan\u001b[0m\u001b[1;33m,\u001b[0m\u001b[1;33m[\u001b[0m\u001b[1;34m'non renseigné'\u001b[0m\u001b[1;33m]\u001b[0m\u001b[1;33m)\u001b[0m\u001b[1;33m\u001b[0m\u001b[1;33m\u001b[0m\u001b[0m\n\u001b[0m",
      "\u001b[1;32m~\\AppData\\Roaming\\Python\\Python39\\site-packages\\pandas\\core\\series.py\u001b[0m in \u001b[0;36mreplace\u001b[1;34m(self, to_replace, value, inplace, limit, regex, method)\u001b[0m\n\u001b[0;32m   4866\u001b[0m         \u001b[0mmethod\u001b[0m\u001b[1;33m=\u001b[0m\u001b[1;34m\"pad\"\u001b[0m\u001b[1;33m,\u001b[0m\u001b[1;33m\u001b[0m\u001b[1;33m\u001b[0m\u001b[0m\n\u001b[0;32m   4867\u001b[0m     ):\n\u001b[1;32m-> 4868\u001b[1;33m         return super().replace(\n\u001b[0m\u001b[0;32m   4869\u001b[0m             \u001b[0mto_replace\u001b[0m\u001b[1;33m=\u001b[0m\u001b[0mto_replace\u001b[0m\u001b[1;33m,\u001b[0m\u001b[1;33m\u001b[0m\u001b[1;33m\u001b[0m\u001b[0m\n\u001b[0;32m   4870\u001b[0m             \u001b[0mvalue\u001b[0m\u001b[1;33m=\u001b[0m\u001b[0mvalue\u001b[0m\u001b[1;33m,\u001b[0m\u001b[1;33m\u001b[0m\u001b[1;33m\u001b[0m\u001b[0m\n",
      "\u001b[1;32m~\\AppData\\Roaming\\Python\\Python39\\site-packages\\pandas\\core\\generic.py\u001b[0m in \u001b[0;36mreplace\u001b[1;34m(self, to_replace, value, inplace, limit, regex, method)\u001b[0m\n\u001b[0;32m   6611\u001b[0m                     )\n\u001b[0;32m   6612\u001b[0m                 \u001b[1;32melse\u001b[0m\u001b[1;33m:\u001b[0m\u001b[1;33m\u001b[0m\u001b[1;33m\u001b[0m\u001b[0m\n\u001b[1;32m-> 6613\u001b[1;33m                     raise TypeError(\n\u001b[0m\u001b[0;32m   6614\u001b[0m                         \u001b[1;34mf'Invalid \"to_replace\" type: {repr(type(to_replace).__name__)}'\u001b[0m\u001b[1;33m\u001b[0m\u001b[1;33m\u001b[0m\u001b[0m\n\u001b[0;32m   6615\u001b[0m                     )\n",
      "\u001b[1;31mTypeError\u001b[0m: Invalid \"to_replace\" type: 'float'"
     ]
    }
   ],
   "source": [
    "df3.Auteur.fillna('non renseigné')\n",
    "df3.Auteur.replace(np.nan,['non renseigné'])"
   ]
  },
  {
   "cell_type": "code",
   "execution_count": 128,
   "metadata": {},
   "outputs": [
    {
     "data": {
      "text/html": [
       "<div>\n",
       "<style scoped>\n",
       "    .dataframe tbody tr th:only-of-type {\n",
       "        vertical-align: middle;\n",
       "    }\n",
       "\n",
       "    .dataframe tbody tr th {\n",
       "        vertical-align: top;\n",
       "    }\n",
       "\n",
       "    .dataframe thead th {\n",
       "        text-align: right;\n",
       "    }\n",
       "</style>\n",
       "<table border=\"1\" class=\"dataframe\">\n",
       "  <thead>\n",
       "    <tr style=\"text-align: right;\">\n",
       "      <th></th>\n",
       "      <th>ID-notice</th>\n",
       "      <th>Auteur</th>\n",
       "      <th>Titre</th>\n",
       "      <th>Dénomination</th>\n",
       "      <th>Domaine</th>\n",
       "      <th>Sujet</th>\n",
       "      <th>BASE</th>\n",
       "      <th>CONTIENT_IMAGE</th>\n",
       "      <th>Identifiant Museofile</th>\n",
       "      <th>NOMOFF</th>\n",
       "      <th>LOCA2</th>\n",
       "      <th>REGION</th>\n",
       "      <th>DPT</th>\n",
       "      <th>Ville_</th>\n",
       "      <th>POP_COORDONNEES</th>\n",
       "    </tr>\n",
       "  </thead>\n",
       "  <tbody>\n",
       "    <tr>\n",
       "      <th>33</th>\n",
       "      <td>M0794014836</td>\n",
       "      <td>NaN</td>\n",
       "      <td>NaN</td>\n",
       "      <td>briquet</td>\n",
       "      <td>ethnologie;vie militaire</td>\n",
       "      <td>NaN</td>\n",
       "      <td>Collections des musées de France (Joconde)</td>\n",
       "      <td>oui</td>\n",
       "      <td>M0794</td>\n",
       "      <td>musée municipal</td>\n",
       "      <td>Picardie ; Aisne</td>\n",
       "      <td>Hauts-de-France</td>\n",
       "      <td>Aisne</td>\n",
       "      <td>Soissons</td>\n",
       "      <td>49.384539,3.327233</td>\n",
       "    </tr>\n",
       "    <tr>\n",
       "      <th>34</th>\n",
       "      <td>M0794014788</td>\n",
       "      <td>NaN</td>\n",
       "      <td>NaN</td>\n",
       "      <td>briquet</td>\n",
       "      <td>ethnologie;vie militaire</td>\n",
       "      <td>figure (homme, George V d'Angleterre);figure</td>\n",
       "      <td>Collections des musées de France (Joconde)</td>\n",
       "      <td>oui</td>\n",
       "      <td>M0794</td>\n",
       "      <td>musée municipal</td>\n",
       "      <td>Picardie ; Aisne</td>\n",
       "      <td>Hauts-de-France</td>\n",
       "      <td>Aisne</td>\n",
       "      <td>Soissons</td>\n",
       "      <td>49.384539,3.327233</td>\n",
       "    </tr>\n",
       "    <tr>\n",
       "      <th>35</th>\n",
       "      <td>M0794014744</td>\n",
       "      <td>NaN</td>\n",
       "      <td>NaN</td>\n",
       "      <td>coupe-papier</td>\n",
       "      <td>ethnologie;vie militaire</td>\n",
       "      <td>NaN</td>\n",
       "      <td>Collections des musées de France (Joconde)</td>\n",
       "      <td>oui</td>\n",
       "      <td>M0794</td>\n",
       "      <td>musée municipal</td>\n",
       "      <td>Picardie ; Aisne</td>\n",
       "      <td>Hauts-de-France</td>\n",
       "      <td>Aisne</td>\n",
       "      <td>Soissons</td>\n",
       "      <td>49.384539,3.327233</td>\n",
       "    </tr>\n",
       "    <tr>\n",
       "      <th>36</th>\n",
       "      <td>M0794014741</td>\n",
       "      <td>NaN</td>\n",
       "      <td>NaN</td>\n",
       "      <td>coupe-papier</td>\n",
       "      <td>ethnologie;vie militaire</td>\n",
       "      <td>NaN</td>\n",
       "      <td>Collections des musées de France (Joconde)</td>\n",
       "      <td>oui</td>\n",
       "      <td>M0794</td>\n",
       "      <td>musée municipal</td>\n",
       "      <td>Picardie ; Aisne</td>\n",
       "      <td>Hauts-de-France</td>\n",
       "      <td>Aisne</td>\n",
       "      <td>Soissons</td>\n",
       "      <td>49.384539,3.327233</td>\n",
       "    </tr>\n",
       "    <tr>\n",
       "      <th>87</th>\n",
       "      <td>01890010511</td>\n",
       "      <td>NaN</td>\n",
       "      <td>NaN</td>\n",
       "      <td>lame</td>\n",
       "      <td>archéologie;néolithique;industrie lithique</td>\n",
       "      <td>NaN</td>\n",
       "      <td>Collections des musées de France (Joconde)</td>\n",
       "      <td>oui</td>\n",
       "      <td>M0189</td>\n",
       "      <td>musée municipal</td>\n",
       "      <td>Bourgogne ; Yonne</td>\n",
       "      <td>Bourgogne-Franche-Comté</td>\n",
       "      <td>Yonne</td>\n",
       "      <td>Sens</td>\n",
       "      <td>48.197826,3.282739</td>\n",
       "    </tr>\n",
       "    <tr>\n",
       "      <th>...</th>\n",
       "      <td>...</td>\n",
       "      <td>...</td>\n",
       "      <td>...</td>\n",
       "      <td>...</td>\n",
       "      <td>...</td>\n",
       "      <td>...</td>\n",
       "      <td>...</td>\n",
       "      <td>...</td>\n",
       "      <td>...</td>\n",
       "      <td>...</td>\n",
       "      <td>...</td>\n",
       "      <td>...</td>\n",
       "      <td>...</td>\n",
       "      <td>...</td>\n",
       "      <td>...</td>\n",
       "    </tr>\n",
       "    <tr>\n",
       "      <th>650833</th>\n",
       "      <td>50520012333</td>\n",
       "      <td>NaN</td>\n",
       "      <td>NaN</td>\n",
       "      <td>fauteuil</td>\n",
       "      <td>ameublement</td>\n",
       "      <td>NaN</td>\n",
       "      <td>Collections des musÃ©es de France (Joconde)</td>\n",
       "      <td>oui</td>\n",
       "      <td>M5052</td>\n",
       "      <td>musÃ©e CondÃ©</td>\n",
       "      <td>NaN</td>\n",
       "      <td>Hauts-de-France</td>\n",
       "      <td>Oise</td>\n",
       "      <td>Chantilly</td>\n",
       "      <td>49.19397,2.48522</td>\n",
       "    </tr>\n",
       "    <tr>\n",
       "      <th>650834</th>\n",
       "      <td>50520012361</td>\n",
       "      <td>NaN</td>\n",
       "      <td>Petite table en acajou, un tiroir, deux boutons</td>\n",
       "      <td>NaN</td>\n",
       "      <td>ameublement</td>\n",
       "      <td>NaN</td>\n",
       "      <td>Collections des musÃ©es de France (Joconde)</td>\n",
       "      <td>non</td>\n",
       "      <td>M5052</td>\n",
       "      <td>musÃ©e CondÃ©</td>\n",
       "      <td>NaN</td>\n",
       "      <td>Hauts-de-France</td>\n",
       "      <td>Oise</td>\n",
       "      <td>Chantilly</td>\n",
       "      <td>49.19397,2.48522</td>\n",
       "    </tr>\n",
       "    <tr>\n",
       "      <th>650835</th>\n",
       "      <td>50520012322</td>\n",
       "      <td>NaN</td>\n",
       "      <td>Fauteuil avec palmettes aux accoudoirs, recouv...</td>\n",
       "      <td>fauteuil</td>\n",
       "      <td>ameublement</td>\n",
       "      <td>NaN</td>\n",
       "      <td>Collections des musÃ©es de France (Joconde)</td>\n",
       "      <td>oui</td>\n",
       "      <td>M5052</td>\n",
       "      <td>musÃ©e CondÃ©</td>\n",
       "      <td>NaN</td>\n",
       "      <td>Hauts-de-France</td>\n",
       "      <td>Oise</td>\n",
       "      <td>Chantilly</td>\n",
       "      <td>49.19397,2.48522</td>\n",
       "    </tr>\n",
       "    <tr>\n",
       "      <th>650836</th>\n",
       "      <td>50520012821</td>\n",
       "      <td>NaN</td>\n",
       "      <td>Chaises Ã  pieds tournÃ©s et Ã  roulettes reco...</td>\n",
       "      <td>chaise</td>\n",
       "      <td>ameublement</td>\n",
       "      <td>NaN</td>\n",
       "      <td>Collections des musÃ©es de France (Joconde)</td>\n",
       "      <td>non</td>\n",
       "      <td>M5052</td>\n",
       "      <td>musÃ©e CondÃ©</td>\n",
       "      <td>NaN</td>\n",
       "      <td>Hauts-de-France</td>\n",
       "      <td>Oise</td>\n",
       "      <td>Chantilly</td>\n",
       "      <td>49.19397,2.48522</td>\n",
       "    </tr>\n",
       "    <tr>\n",
       "      <th>650841</th>\n",
       "      <td>50520013378</td>\n",
       "      <td>NaN</td>\n",
       "      <td>Fouet</td>\n",
       "      <td>NaN</td>\n",
       "      <td>arts décoratifs;costume - accessoires du costume</td>\n",
       "      <td>NaN</td>\n",
       "      <td>Collections des musÃ©es de France (Joconde)</td>\n",
       "      <td>oui</td>\n",
       "      <td>M5052</td>\n",
       "      <td>musÃ©e CondÃ©</td>\n",
       "      <td>NaN</td>\n",
       "      <td>Hauts-de-France</td>\n",
       "      <td>Oise</td>\n",
       "      <td>Chantilly</td>\n",
       "      <td>49.19397,2.48522</td>\n",
       "    </tr>\n",
       "  </tbody>\n",
       "</table>\n",
       "<p>112049 rows × 15 columns</p>\n",
       "</div>"
      ],
      "text/plain": [
       "          ID-notice Auteur                                              Titre  \\\n",
       "33      M0794014836    NaN                                                NaN   \n",
       "34      M0794014788    NaN                                                NaN   \n",
       "35      M0794014744    NaN                                                NaN   \n",
       "36      M0794014741    NaN                                                NaN   \n",
       "87      01890010511    NaN                                                NaN   \n",
       "...             ...    ...                                                ...   \n",
       "650833  50520012333    NaN                                                NaN   \n",
       "650834  50520012361    NaN    Petite table en acajou, un tiroir, deux boutons   \n",
       "650835  50520012322    NaN  Fauteuil avec palmettes aux accoudoirs, recouv...   \n",
       "650836  50520012821    NaN  Chaises Ã  pieds tournÃ©s et Ã  roulettes reco...   \n",
       "650841  50520013378    NaN                                              Fouet   \n",
       "\n",
       "        Dénomination                                           Domaine  \\\n",
       "33           briquet                          ethnologie;vie militaire   \n",
       "34           briquet                          ethnologie;vie militaire   \n",
       "35      coupe-papier                          ethnologie;vie militaire   \n",
       "36      coupe-papier                          ethnologie;vie militaire   \n",
       "87              lame        archéologie;néolithique;industrie lithique   \n",
       "...              ...                                               ...   \n",
       "650833      fauteuil                                       ameublement   \n",
       "650834           NaN                                       ameublement   \n",
       "650835      fauteuil                                       ameublement   \n",
       "650836        chaise                                       ameublement   \n",
       "650841           NaN  arts décoratifs;costume - accessoires du costume   \n",
       "\n",
       "                                               Sujet  \\\n",
       "33                                               NaN   \n",
       "34      figure (homme, George V d'Angleterre);figure   \n",
       "35                                               NaN   \n",
       "36                                               NaN   \n",
       "87                                               NaN   \n",
       "...                                              ...   \n",
       "650833                                           NaN   \n",
       "650834                                           NaN   \n",
       "650835                                           NaN   \n",
       "650836                                           NaN   \n",
       "650841                                           NaN   \n",
       "\n",
       "                                               BASE CONTIENT_IMAGE  \\\n",
       "33       Collections des musées de France (Joconde)            oui   \n",
       "34       Collections des musées de France (Joconde)            oui   \n",
       "35       Collections des musées de France (Joconde)            oui   \n",
       "36       Collections des musées de France (Joconde)            oui   \n",
       "87       Collections des musées de France (Joconde)            oui   \n",
       "...                                             ...            ...   \n",
       "650833  Collections des musÃ©es de France (Joconde)            oui   \n",
       "650834  Collections des musÃ©es de France (Joconde)            non   \n",
       "650835  Collections des musÃ©es de France (Joconde)            oui   \n",
       "650836  Collections des musÃ©es de France (Joconde)            non   \n",
       "650841  Collections des musÃ©es de France (Joconde)            oui   \n",
       "\n",
       "       Identifiant Museofile           NOMOFF              LOCA2  \\\n",
       "33                     M0794  musée municipal   Picardie ; Aisne   \n",
       "34                     M0794  musée municipal   Picardie ; Aisne   \n",
       "35                     M0794  musée municipal   Picardie ; Aisne   \n",
       "36                     M0794  musée municipal   Picardie ; Aisne   \n",
       "87                     M0189  musée municipal  Bourgogne ; Yonne   \n",
       "...                      ...              ...                ...   \n",
       "650833                 M5052    musÃ©e CondÃ©                NaN   \n",
       "650834                 M5052    musÃ©e CondÃ©                NaN   \n",
       "650835                 M5052    musÃ©e CondÃ©                NaN   \n",
       "650836                 M5052    musÃ©e CondÃ©                NaN   \n",
       "650841                 M5052    musÃ©e CondÃ©                NaN   \n",
       "\n",
       "                         REGION    DPT     Ville_     POP_COORDONNEES  \n",
       "33              Hauts-de-France  Aisne   Soissons  49.384539,3.327233  \n",
       "34              Hauts-de-France  Aisne   Soissons  49.384539,3.327233  \n",
       "35              Hauts-de-France  Aisne   Soissons  49.384539,3.327233  \n",
       "36              Hauts-de-France  Aisne   Soissons  49.384539,3.327233  \n",
       "87      Bourgogne-Franche-Comté  Yonne       Sens  48.197826,3.282739  \n",
       "...                         ...    ...        ...                 ...  \n",
       "650833          Hauts-de-France   Oise  Chantilly    49.19397,2.48522  \n",
       "650834          Hauts-de-France   Oise  Chantilly    49.19397,2.48522  \n",
       "650835          Hauts-de-France   Oise  Chantilly    49.19397,2.48522  \n",
       "650836          Hauts-de-France   Oise  Chantilly    49.19397,2.48522  \n",
       "650841          Hauts-de-France   Oise  Chantilly    49.19397,2.48522  \n",
       "\n",
       "[112049 rows x 15 columns]"
      ]
     },
     "execution_count": 128,
     "metadata": {},
     "output_type": "execute_result"
    }
   ],
   "source": [
    "df3[df3.Auteur.isna()]"
   ]
  },
  {
   "cell_type": "code",
   "execution_count": null,
   "metadata": {},
   "outputs": [],
   "source": []
  }
 ],
 "metadata": {
  "kernelspec": {
   "display_name": "Python 3.9.6 64-bit",
   "language": "python",
   "name": "python3"
  },
  "language_info": {
   "codemirror_mode": {
    "name": "ipython",
    "version": 3
   },
   "file_extension": ".py",
   "mimetype": "text/x-python",
   "name": "python",
   "nbconvert_exporter": "python",
   "pygments_lexer": "ipython3",
   "version": "3.9.6"
  },
  "orig_nbformat": 4,
  "vscode": {
   "interpreter": {
    "hash": "fea18846d409248d99d423e115e92b2078ce641c6922a35200ea5b92c7e2ace0"
   }
  }
 },
 "nbformat": 4,
 "nbformat_minor": 2
}
