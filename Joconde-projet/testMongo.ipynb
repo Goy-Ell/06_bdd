{
 "cells": [
  {
   "cell_type": "code",
   "execution_count": 37,
   "metadata": {},
   "outputs": [],
   "source": [
    "import pymongo\n",
    "from pymongo import MongoClient\n",
    "import pandas as pd\n",
    "from pprint import pprint\n",
    "import webbrowser\n",
    "\n"
   ]
  },
  {
   "cell_type": "code",
   "execution_count": 3,
   "metadata": {},
   "outputs": [
    {
     "data": {
      "text/plain": [
       "Database(MongoClient(host=['localhost:27017'], document_class=dict, tz_aware=False, connect=True), 'cojoden')"
      ]
     },
     "execution_count": 3,
     "metadata": {},
     "output_type": "execute_result"
    }
   ],
   "source": [
    "client= MongoClient(\"mongodb://localhost:27017/\")\n",
    "db = client.cojoden\n",
    "db"
   ]
  },
  {
   "cell_type": "code",
   "execution_count": 4,
   "metadata": {},
   "outputs": [
    {
     "data": {
      "text/plain": [
       "['admin', 'config', 'local']"
      ]
     },
     "execution_count": 4,
     "metadata": {},
     "output_type": "execute_result"
    }
   ],
   "source": [
    "client.list_database_names()"
   ]
  },
  {
   "cell_type": "code",
   "execution_count": 5,
   "metadata": {},
   "outputs": [],
   "source": [
    "client.close()"
   ]
  },
  {
   "cell_type": "code",
   "execution_count": 10,
   "metadata": {},
   "outputs": [],
   "source": [
    "data={'nom':'pouloulou',\n",
    "    'url': 'sqmdf/qsgf/qgs',\n",
    "    'autre':'qpgfogre'}"
   ]
  },
  {
   "cell_type": "code",
   "execution_count": 11,
   "metadata": {},
   "outputs": [
    {
     "name": "stdout",
     "output_type": "stream",
     "text": [
      "['admin', 'config', 'local']\n"
     ]
    }
   ],
   "source": [
    "\n",
    "with MongoClient() as client:\n",
    "    print(client.list_database_names())\n",
    "    db = client.cojoden\n",
    "    image = db.image\n",
    "    image.insert_one(data)\n"
   ]
  },
  {
   "cell_type": "code",
   "execution_count": 19,
   "metadata": {},
   "outputs": [
    {
     "name": "stdout",
     "output_type": "stream",
     "text": [
      "{'_id': ObjectId('63170e13feb4d942ed6bc070'), 'nom': 'pouloulou', 'url': 'sqmdf/qsgf/qgs', 'autre': 'qpgfogre'}\n"
     ]
    }
   ],
   "source": [
    "with MongoClient() as client:\n",
    "    print(client.cojoden.image.find_one())"
   ]
  },
  {
   "cell_type": "code",
   "execution_count": 8,
   "metadata": {},
   "outputs": [
    {
     "data": {
      "text/html": [
       "<div>\n",
       "<style scoped>\n",
       "    .dataframe tbody tr th:only-of-type {\n",
       "        vertical-align: middle;\n",
       "    }\n",
       "\n",
       "    .dataframe tbody tr th {\n",
       "        vertical-align: top;\n",
       "    }\n",
       "\n",
       "    .dataframe thead th {\n",
       "        text-align: right;\n",
       "    }\n",
       "</style>\n",
       "<table border=\"1\" class=\"dataframe\">\n",
       "  <thead>\n",
       "    <tr style=\"text-align: right;\">\n",
       "      <th></th>\n",
       "      <th>Identifiant Muséofile</th>\n",
       "      <th>Région administrative</th>\n",
       "      <th>Département</th>\n",
       "      <th>Commune</th>\n",
       "      <th>Nom officiel du musée</th>\n",
       "      <th>Adresse</th>\n",
       "      <th>Lieu</th>\n",
       "      <th>Code Postal</th>\n",
       "      <th>Téléphone</th>\n",
       "      <th>URL</th>\n",
       "      <th>Latitude</th>\n",
       "      <th>Longitude</th>\n",
       "      <th>REF_Deps</th>\n",
       "    </tr>\n",
       "  </thead>\n",
       "  <tbody>\n",
       "    <tr>\n",
       "      <th>0</th>\n",
       "      <td>M0967</td>\n",
       "      <td>Auvergne-Rhône-Alpes</td>\n",
       "      <td>Ain</td>\n",
       "      <td>Lochieu</td>\n",
       "      <td>musée du Bugey-Valromey</td>\n",
       "      <td>3 rue Centrale</td>\n",
       "      <td>NaN</td>\n",
       "      <td>1260.0</td>\n",
       "      <td>04 79 87 52 23</td>\n",
       "      <td>patrimoines.ain.fr/n/musee-du-bugey-valromey/n...</td>\n",
       "      <td>45.930633</td>\n",
       "      <td>5.727664</td>\n",
       "      <td>0121801</td>\n",
       "    </tr>\n",
       "    <tr>\n",
       "      <th>1</th>\n",
       "      <td>M0964</td>\n",
       "      <td>Auvergne-Rhône-Alpes</td>\n",
       "      <td>Ain</td>\n",
       "      <td>Bourg-en-Bresse</td>\n",
       "      <td>musées des pays de l'Ain</td>\n",
       "      <td>34, rue Général Delestraint</td>\n",
       "      <td>NaN</td>\n",
       "      <td>1000.0</td>\n",
       "      <td>04 74 32 10 60</td>\n",
       "      <td>www.ain.fr/solutions-services-infos-pratiques/...</td>\n",
       "      <td>46.196543</td>\n",
       "      <td>5.219217</td>\n",
       "      <td>0105302</td>\n",
       "    </tr>\n",
       "    <tr>\n",
       "      <th>2</th>\n",
       "      <td>M0965</td>\n",
       "      <td>Auvergne-Rhône-Alpes</td>\n",
       "      <td>Ain</td>\n",
       "      <td>Briord</td>\n",
       "      <td>musée de la société d'histoire et d'archéologie</td>\n",
       "      <td>NaN</td>\n",
       "      <td>Au bourg</td>\n",
       "      <td>1470.0</td>\n",
       "      <td>04 74 36 72 06 (mairie)</td>\n",
       "      <td>patrimoines.ain.fr/n/musee-d-archeologie-de-br...</td>\n",
       "      <td>45.781653</td>\n",
       "      <td>5.458569</td>\n",
       "      <td>0106401</td>\n",
       "    </tr>\n",
       "    <tr>\n",
       "      <th>3</th>\n",
       "      <td>M0971</td>\n",
       "      <td>Auvergne-Rhône-Alpes</td>\n",
       "      <td>Ain</td>\n",
       "      <td>Pont-de-Vaux</td>\n",
       "      <td>musée Chintreuil</td>\n",
       "      <td>66 rue Maréchal de Lattre-de-Tassigny</td>\n",
       "      <td>NaN</td>\n",
       "      <td>1190.0</td>\n",
       "      <td>03 85 51 45 75</td>\n",
       "      <td>www.musee-chintreuil.com/</td>\n",
       "      <td>46.430076</td>\n",
       "      <td>4.938125</td>\n",
       "      <td>0130501</td>\n",
       "    </tr>\n",
       "    <tr>\n",
       "      <th>4</th>\n",
       "      <td>M0974</td>\n",
       "      <td>Auvergne-Rhône-Alpes</td>\n",
       "      <td>Ain</td>\n",
       "      <td>Seyssel</td>\n",
       "      <td>musée du bois</td>\n",
       "      <td>place de la République</td>\n",
       "      <td>Mairie</td>\n",
       "      <td>1420.0</td>\n",
       "      <td>04 50 56 21 55 (mairie)</td>\n",
       "      <td>NaN</td>\n",
       "      <td>45.959038</td>\n",
       "      <td>5.831489</td>\n",
       "      <td>0140701</td>\n",
       "    </tr>\n",
       "    <tr>\n",
       "      <th>...</th>\n",
       "      <td>...</td>\n",
       "      <td>...</td>\n",
       "      <td>...</td>\n",
       "      <td>...</td>\n",
       "      <td>...</td>\n",
       "      <td>...</td>\n",
       "      <td>...</td>\n",
       "      <td>...</td>\n",
       "      <td>...</td>\n",
       "      <td>...</td>\n",
       "      <td>...</td>\n",
       "      <td>...</td>\n",
       "      <td>...</td>\n",
       "    </tr>\n",
       "    <tr>\n",
       "      <th>1216</th>\n",
       "      <td>M1081</td>\n",
       "      <td>Territoires et départements d'outre-mer</td>\n",
       "      <td>Martinique</td>\n",
       "      <td>Rivière-Pilote</td>\n",
       "      <td>écomusée de la Martinique</td>\n",
       "      <td>quai Anse-du-figuier</td>\n",
       "      <td>NaN</td>\n",
       "      <td>97211.0</td>\n",
       "      <td>05 96 62 79 14</td>\n",
       "      <td>www.martinique.org/node/24376/PCUMAR972V5000OU...</td>\n",
       "      <td>14.463029</td>\n",
       "      <td>-60.909569</td>\n",
       "      <td>9722001</td>\n",
       "    </tr>\n",
       "    <tr>\n",
       "      <th>1217</th>\n",
       "      <td>M7036</td>\n",
       "      <td>Territoires et départements d'outre-mer</td>\n",
       "      <td>Martinique</td>\n",
       "      <td>Fort-de-France</td>\n",
       "      <td>muséum d'histoire naturelle</td>\n",
       "      <td>Parc Floral</td>\n",
       "      <td>NaN</td>\n",
       "      <td>97200.0</td>\n",
       "      <td>05 96 70 68 41</td>\n",
       "      <td>NaN</td>\n",
       "      <td>14.624376</td>\n",
       "      <td>-61.049824</td>\n",
       "      <td>9720903</td>\n",
       "    </tr>\n",
       "    <tr>\n",
       "      <th>1218</th>\n",
       "      <td>M1181</td>\n",
       "      <td>Territoires et départements d'outre-mer</td>\n",
       "      <td>Martinique</td>\n",
       "      <td>Fort-de-France</td>\n",
       "      <td>musée du Père Pinchon</td>\n",
       "      <td>NaN</td>\n",
       "      <td>NaN</td>\n",
       "      <td>97200.0</td>\n",
       "      <td>NaN</td>\n",
       "      <td>www.martinique.org/node/24376/PCUMAR972V5042NH...</td>\n",
       "      <td>14.649226</td>\n",
       "      <td>-61.070648</td>\n",
       "      <td>9720904</td>\n",
       "    </tr>\n",
       "    <tr>\n",
       "      <th>1219</th>\n",
       "      <td>M1209</td>\n",
       "      <td>Territoires et départements d'outre-mer</td>\n",
       "      <td>Mayotte</td>\n",
       "      <td>Mayotte</td>\n",
       "      <td>MuMa - musée de Mayotte</td>\n",
       "      <td>NaN</td>\n",
       "      <td>NaN</td>\n",
       "      <td>97615.0</td>\n",
       "      <td>NaN</td>\n",
       "      <td>www.cg976.fr/actualite/355/le-musee-de-mayotte...</td>\n",
       "      <td>-12.774184</td>\n",
       "      <td>45.282721</td>\n",
       "      <td>9760801</td>\n",
       "    </tr>\n",
       "    <tr>\n",
       "      <th>1220</th>\n",
       "      <td>M1071</td>\n",
       "      <td>Territoires et départements d'outre-mer</td>\n",
       "      <td>Saint-Pierre-et-Miquelon</td>\n",
       "      <td>Saint-Pierre</td>\n",
       "      <td>musée de l'Arche</td>\n",
       "      <td>rue du 11 novembre</td>\n",
       "      <td>NaN</td>\n",
       "      <td>97500.0</td>\n",
       "      <td>05 08 41 35 70</td>\n",
       "      <td>www.arche-musee-et-archives.net/fr/</td>\n",
       "      <td>46.777283</td>\n",
       "      <td>-56.175795</td>\n",
       "      <td>9750202</td>\n",
       "    </tr>\n",
       "  </tbody>\n",
       "</table>\n",
       "<p>1221 rows × 13 columns</p>\n",
       "</div>"
      ],
      "text/plain": [
       "     Identifiant Muséofile                    Région administrative  \\\n",
       "0                    M0967                     Auvergne-Rhône-Alpes   \n",
       "1                    M0964                     Auvergne-Rhône-Alpes   \n",
       "2                    M0965                     Auvergne-Rhône-Alpes   \n",
       "3                    M0971                     Auvergne-Rhône-Alpes   \n",
       "4                    M0974                     Auvergne-Rhône-Alpes   \n",
       "...                    ...                                      ...   \n",
       "1216                 M1081  Territoires et départements d'outre-mer   \n",
       "1217                 M7036  Territoires et départements d'outre-mer   \n",
       "1218                 M1181  Territoires et départements d'outre-mer   \n",
       "1219                 M1209  Territoires et départements d'outre-mer   \n",
       "1220                 M1071  Territoires et départements d'outre-mer   \n",
       "\n",
       "                   Département          Commune  \\\n",
       "0                          Ain          Lochieu   \n",
       "1                          Ain  Bourg-en-Bresse   \n",
       "2                          Ain           Briord   \n",
       "3                          Ain     Pont-de-Vaux   \n",
       "4                          Ain          Seyssel   \n",
       "...                        ...              ...   \n",
       "1216                Martinique   Rivière-Pilote   \n",
       "1217                Martinique   Fort-de-France   \n",
       "1218                Martinique   Fort-de-France   \n",
       "1219                   Mayotte          Mayotte   \n",
       "1220  Saint-Pierre-et-Miquelon     Saint-Pierre   \n",
       "\n",
       "                                Nom officiel du musée  \\\n",
       "0                             musée du Bugey-Valromey   \n",
       "1                            musées des pays de l'Ain   \n",
       "2     musée de la société d'histoire et d'archéologie   \n",
       "3                                    musée Chintreuil   \n",
       "4                                       musée du bois   \n",
       "...                                               ...   \n",
       "1216                        écomusée de la Martinique   \n",
       "1217                      muséum d'histoire naturelle   \n",
       "1218                            musée du Père Pinchon   \n",
       "1219                          MuMa - musée de Mayotte   \n",
       "1220                                 musée de l'Arche   \n",
       "\n",
       "                                    Adresse      Lieu  Code Postal  \\\n",
       "0                            3 rue Centrale       NaN       1260.0   \n",
       "1               34, rue Général Delestraint       NaN       1000.0   \n",
       "2                                       NaN  Au bourg       1470.0   \n",
       "3     66 rue Maréchal de Lattre-de-Tassigny       NaN       1190.0   \n",
       "4                    place de la République    Mairie       1420.0   \n",
       "...                                     ...       ...          ...   \n",
       "1216                   quai Anse-du-figuier       NaN      97211.0   \n",
       "1217                            Parc Floral       NaN      97200.0   \n",
       "1218                                    NaN       NaN      97200.0   \n",
       "1219                                    NaN       NaN      97615.0   \n",
       "1220                     rue du 11 novembre       NaN      97500.0   \n",
       "\n",
       "                    Téléphone  \\\n",
       "0              04 79 87 52 23   \n",
       "1              04 74 32 10 60   \n",
       "2     04 74 36 72 06 (mairie)   \n",
       "3              03 85 51 45 75   \n",
       "4     04 50 56 21 55 (mairie)   \n",
       "...                       ...   \n",
       "1216           05 96 62 79 14   \n",
       "1217           05 96 70 68 41   \n",
       "1218                      NaN   \n",
       "1219                      NaN   \n",
       "1220           05 08 41 35 70   \n",
       "\n",
       "                                                    URL   Latitude  Longitude  \\\n",
       "0     patrimoines.ain.fr/n/musee-du-bugey-valromey/n...  45.930633   5.727664   \n",
       "1     www.ain.fr/solutions-services-infos-pratiques/...  46.196543   5.219217   \n",
       "2     patrimoines.ain.fr/n/musee-d-archeologie-de-br...  45.781653   5.458569   \n",
       "3                             www.musee-chintreuil.com/  46.430076   4.938125   \n",
       "4                                                   NaN  45.959038   5.831489   \n",
       "...                                                 ...        ...        ...   \n",
       "1216  www.martinique.org/node/24376/PCUMAR972V5000OU...  14.463029 -60.909569   \n",
       "1217                                                NaN  14.624376 -61.049824   \n",
       "1218  www.martinique.org/node/24376/PCUMAR972V5042NH...  14.649226 -61.070648   \n",
       "1219  www.cg976.fr/actualite/355/le-musee-de-mayotte... -12.774184  45.282721   \n",
       "1220                www.arche-musee-et-archives.net/fr/  46.777283 -56.175795   \n",
       "\n",
       "     REF_Deps  \n",
       "0     0121801  \n",
       "1     0105302  \n",
       "2     0106401  \n",
       "3     0130501  \n",
       "4     0140701  \n",
       "...       ...  \n",
       "1216  9722001  \n",
       "1217  9720903  \n",
       "1218  9720904  \n",
       "1219  9760801  \n",
       "1220  9750202  \n",
       "\n",
       "[1221 rows x 13 columns]"
      ]
     },
     "execution_count": 8,
     "metadata": {},
     "output_type": "execute_result"
    }
   ],
   "source": [
    "\n",
    "df = pd.read_excel('liste_museesdf.xlsx')\n",
    "\n",
    "df"
   ]
  },
  {
   "cell_type": "code",
   "execution_count": 10,
   "metadata": {},
   "outputs": [
    {
     "data": {
      "text/plain": [
       "{'Identifiant Muséofile': 'M0967',\n",
       " 'Région administrative': 'Auvergne-Rhône-Alpes',\n",
       " 'Département': 'Ain',\n",
       " 'Commune': 'Lochieu',\n",
       " 'Nom officiel du musée': 'musée du Bugey-Valromey',\n",
       " 'Adresse': '3 rue Centrale',\n",
       " 'Lieu': nan,\n",
       " 'Code Postal': 1260.0,\n",
       " 'Téléphone': '04 79 87 52 23',\n",
       " 'URL': 'patrimoines.ain.fr/n/musee-du-bugey-valromey/n:970',\n",
       " 'Latitude': 45.930633,\n",
       " 'Longitude': 5.727664,\n",
       " 'REF_Deps': '0121801'}"
      ]
     },
     "execution_count": 10,
     "metadata": {},
     "output_type": "execute_result"
    }
   ],
   "source": [
    "dict(df.iloc[0,:])"
   ]
  },
  {
   "cell_type": "code",
   "execution_count": 51,
   "metadata": {},
   "outputs": [
    {
     "name": "stdout",
     "output_type": "stream",
     "text": [
      "['admin', 'config', 'local']\n"
     ]
    }
   ],
   "source": [
    "with MongoClient() as client:\n",
    "    db = client.cojoden\n",
    "    musees = db.musees\n",
    "    \n",
    "    for i in range(df.shape[0]):\n",
    "        musees.insert_one(dict(df.iloc[i,:]))"
   ]
  },
  {
   "cell_type": "code",
   "execution_count": 48,
   "metadata": {},
   "outputs": [],
   "source": [
    "with MongoClient() as client:\n",
    "    # print(client.list_database_names())\n",
    "    db = client.cojoden\n",
    "    # pprint(db)\n",
    "    # pprint(db.list_collection_names())\n",
    "    image = db.image\n",
    "    # musees=image.find({'Département': 'Ain'})\n",
    "    # m3=image.find({'Département': 'Ain'})[3]\n",
    "    mid=image.find_one({'Identifiant Muséofile': 'M0967'})\n",
    "    # pprint(image.find_one({'Département': 'Ain'}))"
   ]
  },
  {
   "cell_type": "code",
   "execution_count": 50,
   "metadata": {},
   "outputs": [],
   "source": [
    "with MongoClient() as client:\n",
    "    client.cojoden.drop_collection(image)"
   ]
  },
  {
   "cell_type": "code",
   "execution_count": 44,
   "metadata": {},
   "outputs": [
    {
     "data": {
      "text/plain": [
       "'www.musee-chintreuil.com/'"
      ]
     },
     "execution_count": 44,
     "metadata": {},
     "output_type": "execute_result"
    }
   ],
   "source": [
    "m3['URL'] "
   ]
  },
  {
   "cell_type": "code",
   "execution_count": 49,
   "metadata": {},
   "outputs": [
    {
     "data": {
      "text/plain": [
       "{'_id': ObjectId('631743f1d4d78cfcd51e3265'),\n",
       " 'Identifiant Muséofile': 'M0967',\n",
       " 'Région administrative': 'Auvergne-Rhône-Alpes',\n",
       " 'Département': 'Ain',\n",
       " 'Commune': 'Lochieu',\n",
       " 'Nom officiel du musée': 'musée du Bugey-Valromey',\n",
       " 'Adresse': '3 rue Centrale',\n",
       " 'Lieu': nan,\n",
       " 'Code Postal': 1260.0,\n",
       " 'Téléphone': '04 79 87 52 23',\n",
       " 'URL': 'patrimoines.ain.fr/n/musee-du-bugey-valromey/n:970',\n",
       " 'Latitude': 45.930633,\n",
       " 'Longitude': 5.727664,\n",
       " 'REF_Deps': '0121801'}"
      ]
     },
     "execution_count": 49,
     "metadata": {},
     "output_type": "execute_result"
    }
   ],
   "source": [
    "mid"
   ]
  },
  {
   "cell_type": "code",
   "execution_count": null,
   "metadata": {},
   "outputs": [],
   "source": []
  },
  {
   "cell_type": "code",
   "execution_count": 45,
   "metadata": {},
   "outputs": [
    {
     "data": {
      "text/plain": [
       "True"
      ]
     },
     "execution_count": 45,
     "metadata": {},
     "output_type": "execute_result"
    }
   ],
   "source": [
    "webbrowser.open(m3['URL'] , new=2)"
   ]
  },
  {
   "cell_type": "code",
   "execution_count": 53,
   "metadata": {},
   "outputs": [
    {
     "data": {
      "text/plain": [
       "True"
      ]
     },
     "execution_count": 53,
     "metadata": {},
     "output_type": "execute_result"
    }
   ],
   "source": [
    "webbrowser.open(f'https://www.google.com/search?q=yolo' , new=2)"
   ]
  },
  {
   "cell_type": "code",
   "execution_count": 21,
   "metadata": {},
   "outputs": [
    {
     "data": {
      "text/plain": [
       "<pymongo.cursor.Cursor at 0x26808c5b7c0>"
      ]
     },
     "execution_count": 21,
     "metadata": {},
     "output_type": "execute_result"
    }
   ],
   "source": [
    "image"
   ]
  },
  {
   "cell_type": "code",
   "execution_count": null,
   "metadata": {},
   "outputs": [],
   "source": []
  },
  {
   "cell_type": "code",
   "execution_count": null,
   "metadata": {},
   "outputs": [],
   "source": []
  }
 ],
 "metadata": {
  "kernelspec": {
   "display_name": "Python 3.9.6 64-bit",
   "language": "python",
   "name": "python3"
  },
  "language_info": {
   "codemirror_mode": {
    "name": "ipython",
    "version": 3
   },
   "file_extension": ".py",
   "mimetype": "text/x-python",
   "name": "python",
   "nbconvert_exporter": "python",
   "pygments_lexer": "ipython3",
   "version": "3.9.6"
  },
  "orig_nbformat": 4,
  "vscode": {
   "interpreter": {
    "hash": "fea18846d409248d99d423e115e92b2078ce641c6922a35200ea5b92c7e2ace0"
   }
  }
 },
 "nbformat": 4,
 "nbformat_minor": 2
}
